{
 "cells": [
  {
   "cell_type": "markdown",
   "metadata": {},
   "source": [
    "# Exercise: Text Mining\n",
    "\n",
    " \n",
    "\n",
    "Gunakan dataset Tweets.csv\n",
    "\n",
    " \n",
    "\n",
    "Dataset ini berisi tweet yang ditujukan (mention) ke beberapa maskapai di US. \n",
    "\n",
    "Anda bekerja sebagai data scientist yang ditugaskan untuk memprediksi apakah sebuah tweet termasuk ke dalam sentiment negative (class 1) atau positive or neutral (class 0). \n",
    "\n",
    "Tujuan dari klasifikasi tweet ini adalah untuk memberikan alarm/warning ketika muncul sebuah tweet negatif sehingga tim PR (Public Relation) bisa menghandle tweet negatif tsb dengan cepat.\n",
    "\n",
    " \n",
    "\n",
    "- Lakukan preprocessing pada semua tweet \n",
    "\n",
    "- Lakukan EDA. Apakah ada perbedaan antara tweet dengan sentiment negative (class 1) dengan tweet dengan sentiment positive or neutral (class 0)?\n",
    "\n",
    "- Definisikan FP dan FN dalam kasus sentiment analysis ini\n",
    "\n",
    "- Tentukan metric yang cocok untuk kasus ini"
   ]
  },
  {
   "cell_type": "code",
   "execution_count": 1,
   "metadata": {},
   "outputs": [],
   "source": [
    "# general librariers\n",
    "import pandas as pd\n",
    "import numpy as np\n",
    "# visualisations\n",
    "import matplotlib.pyplot as plt\n",
    "import seaborn as sns"
   ]
  },
  {
   "cell_type": "code",
   "execution_count": 2,
   "metadata": {},
   "outputs": [
    {
     "data": {
      "text/html": [
       "<div>\n",
       "<style scoped>\n",
       "    .dataframe tbody tr th:only-of-type {\n",
       "        vertical-align: middle;\n",
       "    }\n",
       "\n",
       "    .dataframe tbody tr th {\n",
       "        vertical-align: top;\n",
       "    }\n",
       "\n",
       "    .dataframe thead th {\n",
       "        text-align: right;\n",
       "    }\n",
       "</style>\n",
       "<table border=\"1\" class=\"dataframe\">\n",
       "  <thead>\n",
       "    <tr style=\"text-align: right;\">\n",
       "      <th></th>\n",
       "      <th>tweet_id</th>\n",
       "      <th>airline_sentiment</th>\n",
       "      <th>airline_sentiment_confidence</th>\n",
       "      <th>negativereason</th>\n",
       "      <th>negativereason_confidence</th>\n",
       "      <th>airline</th>\n",
       "      <th>airline_sentiment_gold</th>\n",
       "      <th>name</th>\n",
       "      <th>negativereason_gold</th>\n",
       "      <th>retweet_count</th>\n",
       "      <th>text</th>\n",
       "      <th>tweet_coord</th>\n",
       "      <th>tweet_created</th>\n",
       "      <th>tweet_location</th>\n",
       "      <th>user_timezone</th>\n",
       "    </tr>\n",
       "  </thead>\n",
       "  <tbody>\n",
       "    <tr>\n",
       "      <th>0</th>\n",
       "      <td>570306133677760513</td>\n",
       "      <td>neutral</td>\n",
       "      <td>1.0000</td>\n",
       "      <td>NaN</td>\n",
       "      <td>NaN</td>\n",
       "      <td>Virgin America</td>\n",
       "      <td>NaN</td>\n",
       "      <td>cairdin</td>\n",
       "      <td>NaN</td>\n",
       "      <td>0</td>\n",
       "      <td>@VirginAmerica What @dhepburn said.</td>\n",
       "      <td>NaN</td>\n",
       "      <td>2015-02-24 11:35:52 -0800</td>\n",
       "      <td>NaN</td>\n",
       "      <td>Eastern Time (US &amp; Canada)</td>\n",
       "    </tr>\n",
       "    <tr>\n",
       "      <th>1</th>\n",
       "      <td>570301130888122368</td>\n",
       "      <td>positive</td>\n",
       "      <td>0.3486</td>\n",
       "      <td>NaN</td>\n",
       "      <td>0.0000</td>\n",
       "      <td>Virgin America</td>\n",
       "      <td>NaN</td>\n",
       "      <td>jnardino</td>\n",
       "      <td>NaN</td>\n",
       "      <td>0</td>\n",
       "      <td>@VirginAmerica plus you've added commercials t...</td>\n",
       "      <td>NaN</td>\n",
       "      <td>2015-02-24 11:15:59 -0800</td>\n",
       "      <td>NaN</td>\n",
       "      <td>Pacific Time (US &amp; Canada)</td>\n",
       "    </tr>\n",
       "    <tr>\n",
       "      <th>2</th>\n",
       "      <td>570301083672813571</td>\n",
       "      <td>neutral</td>\n",
       "      <td>0.6837</td>\n",
       "      <td>NaN</td>\n",
       "      <td>NaN</td>\n",
       "      <td>Virgin America</td>\n",
       "      <td>NaN</td>\n",
       "      <td>yvonnalynn</td>\n",
       "      <td>NaN</td>\n",
       "      <td>0</td>\n",
       "      <td>@VirginAmerica I didn't today... Must mean I n...</td>\n",
       "      <td>NaN</td>\n",
       "      <td>2015-02-24 11:15:48 -0800</td>\n",
       "      <td>Lets Play</td>\n",
       "      <td>Central Time (US &amp; Canada)</td>\n",
       "    </tr>\n",
       "    <tr>\n",
       "      <th>3</th>\n",
       "      <td>570301031407624196</td>\n",
       "      <td>negative</td>\n",
       "      <td>1.0000</td>\n",
       "      <td>Bad Flight</td>\n",
       "      <td>0.7033</td>\n",
       "      <td>Virgin America</td>\n",
       "      <td>NaN</td>\n",
       "      <td>jnardino</td>\n",
       "      <td>NaN</td>\n",
       "      <td>0</td>\n",
       "      <td>@VirginAmerica it's really aggressive to blast...</td>\n",
       "      <td>NaN</td>\n",
       "      <td>2015-02-24 11:15:36 -0800</td>\n",
       "      <td>NaN</td>\n",
       "      <td>Pacific Time (US &amp; Canada)</td>\n",
       "    </tr>\n",
       "    <tr>\n",
       "      <th>4</th>\n",
       "      <td>570300817074462722</td>\n",
       "      <td>negative</td>\n",
       "      <td>1.0000</td>\n",
       "      <td>Can't Tell</td>\n",
       "      <td>1.0000</td>\n",
       "      <td>Virgin America</td>\n",
       "      <td>NaN</td>\n",
       "      <td>jnardino</td>\n",
       "      <td>NaN</td>\n",
       "      <td>0</td>\n",
       "      <td>@VirginAmerica and it's a really big bad thing...</td>\n",
       "      <td>NaN</td>\n",
       "      <td>2015-02-24 11:14:45 -0800</td>\n",
       "      <td>NaN</td>\n",
       "      <td>Pacific Time (US &amp; Canada)</td>\n",
       "    </tr>\n",
       "  </tbody>\n",
       "</table>\n",
       "</div>"
      ],
      "text/plain": [
       "             tweet_id airline_sentiment  airline_sentiment_confidence  \\\n",
       "0  570306133677760513           neutral                        1.0000   \n",
       "1  570301130888122368          positive                        0.3486   \n",
       "2  570301083672813571           neutral                        0.6837   \n",
       "3  570301031407624196          negative                        1.0000   \n",
       "4  570300817074462722          negative                        1.0000   \n",
       "\n",
       "  negativereason  negativereason_confidence         airline  \\\n",
       "0            NaN                        NaN  Virgin America   \n",
       "1            NaN                     0.0000  Virgin America   \n",
       "2            NaN                        NaN  Virgin America   \n",
       "3     Bad Flight                     0.7033  Virgin America   \n",
       "4     Can't Tell                     1.0000  Virgin America   \n",
       "\n",
       "  airline_sentiment_gold        name negativereason_gold  retweet_count  \\\n",
       "0                    NaN     cairdin                 NaN              0   \n",
       "1                    NaN    jnardino                 NaN              0   \n",
       "2                    NaN  yvonnalynn                 NaN              0   \n",
       "3                    NaN    jnardino                 NaN              0   \n",
       "4                    NaN    jnardino                 NaN              0   \n",
       "\n",
       "                                                text tweet_coord  \\\n",
       "0                @VirginAmerica What @dhepburn said.         NaN   \n",
       "1  @VirginAmerica plus you've added commercials t...         NaN   \n",
       "2  @VirginAmerica I didn't today... Must mean I n...         NaN   \n",
       "3  @VirginAmerica it's really aggressive to blast...         NaN   \n",
       "4  @VirginAmerica and it's a really big bad thing...         NaN   \n",
       "\n",
       "               tweet_created tweet_location               user_timezone  \n",
       "0  2015-02-24 11:35:52 -0800            NaN  Eastern Time (US & Canada)  \n",
       "1  2015-02-24 11:15:59 -0800            NaN  Pacific Time (US & Canada)  \n",
       "2  2015-02-24 11:15:48 -0800      Lets Play  Central Time (US & Canada)  \n",
       "3  2015-02-24 11:15:36 -0800            NaN  Pacific Time (US & Canada)  \n",
       "4  2015-02-24 11:14:45 -0800            NaN  Pacific Time (US & Canada)  "
      ]
     },
     "execution_count": 2,
     "metadata": {},
     "output_type": "execute_result"
    }
   ],
   "source": [
    "df = pd.read_csv('../datasets/Tweets.csv')\n",
    "df.head()"
   ]
  },
  {
   "cell_type": "code",
   "execution_count": 3,
   "metadata": {},
   "outputs": [
    {
     "data": {
      "text/plain": [
       "airline\n",
       "United            3822\n",
       "US Airways        2913\n",
       "American          2759\n",
       "Southwest         2420\n",
       "Delta             2222\n",
       "Virgin America     504\n",
       "Name: count, dtype: int64"
      ]
     },
     "execution_count": 3,
     "metadata": {},
     "output_type": "execute_result"
    }
   ],
   "source": [
    "df['airline'].value_counts()"
   ]
  },
  {
   "cell_type": "code",
   "execution_count": 4,
   "metadata": {},
   "outputs": [],
   "source": [
    "df['airline_sentiment'] = np.where((df['airline_sentiment'] == 'neutral'), 'positive', df['airline_sentiment'])"
   ]
  },
  {
   "cell_type": "code",
   "execution_count": 5,
   "metadata": {},
   "outputs": [
    {
     "data": {
      "text/plain": [
       "airline_sentiment\n",
       "negative    9178\n",
       "positive    5462\n",
       "Name: count, dtype: int64"
      ]
     },
     "execution_count": 5,
     "metadata": {},
     "output_type": "execute_result"
    }
   ],
   "source": [
    "df['airline_sentiment'].value_counts()"
   ]
  },
  {
   "cell_type": "code",
   "execution_count": 6,
   "metadata": {},
   "outputs": [
    {
     "data": {
      "text/plain": [
       "airline_sentiment\n",
       "negative    9178\n",
       "positive    5462\n",
       "Name: count, dtype: int64"
      ]
     },
     "execution_count": 6,
     "metadata": {},
     "output_type": "execute_result"
    }
   ],
   "source": [
    "df['airline_sentiment'].value_counts()"
   ]
  },
  {
   "cell_type": "code",
   "execution_count": 7,
   "metadata": {},
   "outputs": [
    {
     "data": {
      "text/plain": [
       "tweet_id                            0\n",
       "airline_sentiment                   0\n",
       "airline_sentiment_confidence        0\n",
       "negativereason                   5462\n",
       "negativereason_confidence        4118\n",
       "airline                             0\n",
       "airline_sentiment_gold          14600\n",
       "name                                0\n",
       "negativereason_gold             14608\n",
       "retweet_count                       0\n",
       "text                                0\n",
       "tweet_coord                     13621\n",
       "tweet_created                       0\n",
       "tweet_location                   4733\n",
       "user_timezone                    4820\n",
       "dtype: int64"
      ]
     },
     "execution_count": 7,
     "metadata": {},
     "output_type": "execute_result"
    }
   ],
   "source": [
    "df.isna().sum()"
   ]
  },
  {
   "cell_type": "code",
   "execution_count": 8,
   "metadata": {},
   "outputs": [
    {
     "data": {
      "text/plain": [
       "tweet_id                         0.000000\n",
       "airline_sentiment                0.000000\n",
       "airline_sentiment_confidence     0.000000\n",
       "negativereason                  37.308743\n",
       "negativereason_confidence       28.128415\n",
       "airline                          0.000000\n",
       "airline_sentiment_gold          99.726776\n",
       "name                             0.000000\n",
       "negativereason_gold             99.781421\n",
       "retweet_count                    0.000000\n",
       "text                             0.000000\n",
       "tweet_coord                     93.039617\n",
       "tweet_created                    0.000000\n",
       "tweet_location                  32.329235\n",
       "user_timezone                   32.923497\n",
       "dtype: float64"
      ]
     },
     "execution_count": 8,
     "metadata": {},
     "output_type": "execute_result"
    }
   ],
   "source": [
    "df.isna().sum()/df.shape[0]*100"
   ]
  },
  {
   "cell_type": "code",
   "execution_count": 9,
   "metadata": {},
   "outputs": [
    {
     "data": {
      "text/plain": [
       "37"
      ]
     },
     "execution_count": 9,
     "metadata": {},
     "output_type": "execute_result"
    }
   ],
   "source": [
    "df.duplicated().sum()"
   ]
  },
  {
   "cell_type": "code",
   "execution_count": 10,
   "metadata": {},
   "outputs": [
    {
     "data": {
      "text/html": [
       "<div>\n",
       "<style scoped>\n",
       "    .dataframe tbody tr th:only-of-type {\n",
       "        vertical-align: middle;\n",
       "    }\n",
       "\n",
       "    .dataframe tbody tr th {\n",
       "        vertical-align: top;\n",
       "    }\n",
       "\n",
       "    .dataframe thead th {\n",
       "        text-align: right;\n",
       "    }\n",
       "</style>\n",
       "<table border=\"1\" class=\"dataframe\">\n",
       "  <thead>\n",
       "    <tr style=\"text-align: right;\">\n",
       "      <th></th>\n",
       "      <th>airline_sentiment</th>\n",
       "      <th>text</th>\n",
       "    </tr>\n",
       "  </thead>\n",
       "  <tbody>\n",
       "    <tr>\n",
       "      <th>0</th>\n",
       "      <td>positive</td>\n",
       "      <td>@VirginAmerica What @dhepburn said.</td>\n",
       "    </tr>\n",
       "    <tr>\n",
       "      <th>1</th>\n",
       "      <td>positive</td>\n",
       "      <td>@VirginAmerica plus you've added commercials t...</td>\n",
       "    </tr>\n",
       "    <tr>\n",
       "      <th>2</th>\n",
       "      <td>positive</td>\n",
       "      <td>@VirginAmerica I didn't today... Must mean I n...</td>\n",
       "    </tr>\n",
       "    <tr>\n",
       "      <th>3</th>\n",
       "      <td>negative</td>\n",
       "      <td>@VirginAmerica it's really aggressive to blast...</td>\n",
       "    </tr>\n",
       "    <tr>\n",
       "      <th>4</th>\n",
       "      <td>negative</td>\n",
       "      <td>@VirginAmerica and it's a really big bad thing...</td>\n",
       "    </tr>\n",
       "  </tbody>\n",
       "</table>\n",
       "</div>"
      ],
      "text/plain": [
       "  airline_sentiment                                               text\n",
       "0          positive                @VirginAmerica What @dhepburn said.\n",
       "1          positive  @VirginAmerica plus you've added commercials t...\n",
       "2          positive  @VirginAmerica I didn't today... Must mean I n...\n",
       "3          negative  @VirginAmerica it's really aggressive to blast...\n",
       "4          negative  @VirginAmerica and it's a really big bad thing..."
      ]
     },
     "execution_count": 10,
     "metadata": {},
     "output_type": "execute_result"
    }
   ],
   "source": [
    "df = df[['airline_sentiment', 'text']]\n",
    "df.head()"
   ]
  },
  {
   "cell_type": "markdown",
   "metadata": {},
   "source": [
    "# Preprocessing"
   ]
  },
  {
   "cell_type": "markdown",
   "metadata": {},
   "source": [
    "## 1. Lowercase"
   ]
  },
  {
   "cell_type": "code",
   "execution_count": 11,
   "metadata": {},
   "outputs": [],
   "source": [
    "to_lower = lambda text: text.lower()"
   ]
  },
  {
   "cell_type": "markdown",
   "metadata": {},
   "source": [
    "## 2. Contraction"
   ]
  },
  {
   "cell_type": "code",
   "execution_count": 12,
   "metadata": {},
   "outputs": [],
   "source": [
    "import contractions"
   ]
  },
  {
   "cell_type": "code",
   "execution_count": 13,
   "metadata": {},
   "outputs": [],
   "source": [
    "# contractions.fix()"
   ]
  },
  {
   "cell_type": "markdown",
   "metadata": {},
   "source": [
    "## 3. Remove Number"
   ]
  },
  {
   "cell_type": "code",
   "execution_count": 14,
   "metadata": {},
   "outputs": [],
   "source": [
    "def remove_number(text): return ''.join(i for i in text if not i.isdigit())"
   ]
  },
  {
   "cell_type": "markdown",
   "metadata": {},
   "source": [
    "## 4. Remove Punctuation"
   ]
  },
  {
   "cell_type": "code",
   "execution_count": 15,
   "metadata": {},
   "outputs": [],
   "source": [
    "from string import punctuation"
   ]
  },
  {
   "cell_type": "code",
   "execution_count": 16,
   "metadata": {},
   "outputs": [
    {
     "data": {
      "text/plain": [
       "'!\"#$%&\\'()*+,-./:;<=>?@[\\\\]^_`{|}~'"
      ]
     },
     "execution_count": 16,
     "metadata": {},
     "output_type": "execute_result"
    }
   ],
   "source": [
    "punctuation"
   ]
  },
  {
   "cell_type": "code",
   "execution_count": 17,
   "metadata": {},
   "outputs": [],
   "source": [
    "import re\n",
    "def remove_punctuation(text): \n",
    "    res = re.sub('@[^\\s]+','',text)\n",
    "    res = ''.join(i for i in res if i not in punctuation)\n",
    "    return res"
   ]
  },
  {
   "cell_type": "code",
   "execution_count": 18,
   "metadata": {},
   "outputs": [
    {
     "data": {
      "text/plain": [
       "'I do not care'"
      ]
     },
     "execution_count": 18,
     "metadata": {},
     "output_type": "execute_result"
    }
   ],
   "source": [
    "contractions.fix(\"I don't care\")"
   ]
  },
  {
   "cell_type": "markdown",
   "metadata": {},
   "source": [
    "## 5. Remove Stopwords"
   ]
  },
  {
   "cell_type": "code",
   "execution_count": 19,
   "metadata": {},
   "outputs": [],
   "source": [
    "import nltk\n",
    "from nltk.corpus import stopwords"
   ]
  },
  {
   "cell_type": "code",
   "execution_count": 20,
   "metadata": {},
   "outputs": [
    {
     "data": {
      "text/plain": [
       "['i',\n",
       " 'me',\n",
       " 'my',\n",
       " 'myself',\n",
       " 'we',\n",
       " 'our',\n",
       " 'ours',\n",
       " 'ourselves',\n",
       " 'you',\n",
       " \"you're\",\n",
       " \"you've\",\n",
       " \"you'll\",\n",
       " \"you'd\",\n",
       " 'your',\n",
       " 'yours',\n",
       " 'yourself',\n",
       " 'yourselves',\n",
       " 'he',\n",
       " 'him',\n",
       " 'his',\n",
       " 'himself',\n",
       " 'she',\n",
       " \"she's\",\n",
       " 'her',\n",
       " 'hers',\n",
       " 'herself',\n",
       " 'it',\n",
       " \"it's\",\n",
       " 'its',\n",
       " 'itself',\n",
       " 'they',\n",
       " 'them',\n",
       " 'their',\n",
       " 'theirs',\n",
       " 'themselves',\n",
       " 'what',\n",
       " 'which',\n",
       " 'who',\n",
       " 'whom',\n",
       " 'this',\n",
       " 'that',\n",
       " \"that'll\",\n",
       " 'these',\n",
       " 'those',\n",
       " 'am',\n",
       " 'is',\n",
       " 'are',\n",
       " 'was',\n",
       " 'were',\n",
       " 'be',\n",
       " 'been',\n",
       " 'being',\n",
       " 'have',\n",
       " 'has',\n",
       " 'had',\n",
       " 'having',\n",
       " 'do',\n",
       " 'does',\n",
       " 'did',\n",
       " 'doing',\n",
       " 'a',\n",
       " 'an',\n",
       " 'the',\n",
       " 'and',\n",
       " 'but',\n",
       " 'if',\n",
       " 'or',\n",
       " 'because',\n",
       " 'as',\n",
       " 'until',\n",
       " 'while',\n",
       " 'of',\n",
       " 'at',\n",
       " 'by',\n",
       " 'for',\n",
       " 'with',\n",
       " 'about',\n",
       " 'against',\n",
       " 'between',\n",
       " 'into',\n",
       " 'through',\n",
       " 'during',\n",
       " 'before',\n",
       " 'after',\n",
       " 'above',\n",
       " 'below',\n",
       " 'to',\n",
       " 'from',\n",
       " 'up',\n",
       " 'down',\n",
       " 'in',\n",
       " 'out',\n",
       " 'on',\n",
       " 'off',\n",
       " 'over',\n",
       " 'under',\n",
       " 'again',\n",
       " 'further',\n",
       " 'then',\n",
       " 'once',\n",
       " 'here',\n",
       " 'there',\n",
       " 'when',\n",
       " 'where',\n",
       " 'why',\n",
       " 'how',\n",
       " 'all',\n",
       " 'any',\n",
       " 'both',\n",
       " 'each',\n",
       " 'few',\n",
       " 'more',\n",
       " 'most',\n",
       " 'other',\n",
       " 'some',\n",
       " 'such',\n",
       " 'no',\n",
       " 'nor',\n",
       " 'not',\n",
       " 'only',\n",
       " 'own',\n",
       " 'same',\n",
       " 'so',\n",
       " 'than',\n",
       " 'too',\n",
       " 'very',\n",
       " 's',\n",
       " 't',\n",
       " 'can',\n",
       " 'will',\n",
       " 'just',\n",
       " 'don',\n",
       " \"don't\",\n",
       " 'should',\n",
       " \"should've\",\n",
       " 'now',\n",
       " 'd',\n",
       " 'll',\n",
       " 'm',\n",
       " 'o',\n",
       " 're',\n",
       " 've',\n",
       " 'y',\n",
       " 'ain',\n",
       " 'aren',\n",
       " \"aren't\",\n",
       " 'couldn',\n",
       " \"couldn't\",\n",
       " 'didn',\n",
       " \"didn't\",\n",
       " 'doesn',\n",
       " \"doesn't\",\n",
       " 'hadn',\n",
       " \"hadn't\",\n",
       " 'hasn',\n",
       " \"hasn't\",\n",
       " 'haven',\n",
       " \"haven't\",\n",
       " 'isn',\n",
       " \"isn't\",\n",
       " 'ma',\n",
       " 'mightn',\n",
       " \"mightn't\",\n",
       " 'mustn',\n",
       " \"mustn't\",\n",
       " 'needn',\n",
       " \"needn't\",\n",
       " 'shan',\n",
       " \"shan't\",\n",
       " 'shouldn',\n",
       " \"shouldn't\",\n",
       " 'wasn',\n",
       " \"wasn't\",\n",
       " 'weren',\n",
       " \"weren't\",\n",
       " 'won',\n",
       " \"won't\",\n",
       " 'wouldn',\n",
       " \"wouldn't\"]"
      ]
     },
     "execution_count": 20,
     "metadata": {},
     "output_type": "execute_result"
    }
   ],
   "source": [
    "stop_words = stopwords.words('english')\n",
    "stop_words"
   ]
  },
  {
   "cell_type": "code",
   "execution_count": 21,
   "metadata": {},
   "outputs": [],
   "source": [
    "# stop_words.remove(\"not\")"
   ]
  },
  {
   "cell_type": "code",
   "execution_count": 22,
   "metadata": {},
   "outputs": [],
   "source": [
    "stop_words.append('u')"
   ]
  },
  {
   "cell_type": "code",
   "execution_count": 23,
   "metadata": {},
   "outputs": [],
   "source": [
    "def remove_stopwords(text): \n",
    "    return ' '.join(i for i in text.split() if i not in stop_words)"
   ]
  },
  {
   "cell_type": "markdown",
   "metadata": {},
   "source": [
    "## 6. Remove Whitespace"
   ]
  },
  {
   "cell_type": "code",
   "execution_count": 24,
   "metadata": {},
   "outputs": [],
   "source": [
    "def remove_whitespace(text):\n",
    "    return ' '.join(text.split())"
   ]
  },
  {
   "cell_type": "code",
   "execution_count": 25,
   "metadata": {},
   "outputs": [
    {
     "data": {
      "text/html": [
       "<div>\n",
       "<style scoped>\n",
       "    .dataframe tbody tr th:only-of-type {\n",
       "        vertical-align: middle;\n",
       "    }\n",
       "\n",
       "    .dataframe tbody tr th {\n",
       "        vertical-align: top;\n",
       "    }\n",
       "\n",
       "    .dataframe thead th {\n",
       "        text-align: right;\n",
       "    }\n",
       "</style>\n",
       "<table border=\"1\" class=\"dataframe\">\n",
       "  <thead>\n",
       "    <tr style=\"text-align: right;\">\n",
       "      <th></th>\n",
       "      <th>airline_sentiment</th>\n",
       "      <th>text</th>\n",
       "      <th>1_lower</th>\n",
       "      <th>2_contraction</th>\n",
       "      <th>3_number</th>\n",
       "      <th>4_punct</th>\n",
       "      <th>5_stopword</th>\n",
       "      <th>6_white</th>\n",
       "    </tr>\n",
       "  </thead>\n",
       "  <tbody>\n",
       "    <tr>\n",
       "      <th>0</th>\n",
       "      <td>positive</td>\n",
       "      <td>@VirginAmerica What @dhepburn said.</td>\n",
       "      <td>@virginamerica what @dhepburn said.</td>\n",
       "      <td>@virginamerica what @dhepburn said.</td>\n",
       "      <td>@virginamerica what @dhepburn said.</td>\n",
       "      <td>what  said</td>\n",
       "      <td>said</td>\n",
       "      <td>said</td>\n",
       "    </tr>\n",
       "    <tr>\n",
       "      <th>1</th>\n",
       "      <td>positive</td>\n",
       "      <td>@VirginAmerica plus you've added commercials t...</td>\n",
       "      <td>@virginamerica plus you've added commercials t...</td>\n",
       "      <td>@virginamerica plus you have added commercials...</td>\n",
       "      <td>@virginamerica plus you have added commercials...</td>\n",
       "      <td>plus you have added commercials to the experi...</td>\n",
       "      <td>plus added commercials experience tacky</td>\n",
       "      <td>plus added commercials experience tacky</td>\n",
       "    </tr>\n",
       "    <tr>\n",
       "      <th>2</th>\n",
       "      <td>positive</td>\n",
       "      <td>@VirginAmerica I didn't today... Must mean I n...</td>\n",
       "      <td>@virginamerica i didn't today... must mean i n...</td>\n",
       "      <td>@virginamerica i did not today... must mean i ...</td>\n",
       "      <td>@virginamerica i did not today... must mean i ...</td>\n",
       "      <td>i did not today must mean i need to take anot...</td>\n",
       "      <td>today must mean need take another trip</td>\n",
       "      <td>today must mean need take another trip</td>\n",
       "    </tr>\n",
       "    <tr>\n",
       "      <th>3</th>\n",
       "      <td>negative</td>\n",
       "      <td>@VirginAmerica it's really aggressive to blast...</td>\n",
       "      <td>@virginamerica it's really aggressive to blast...</td>\n",
       "      <td>@virginamerica it is really aggressive to blas...</td>\n",
       "      <td>@virginamerica it is really aggressive to blas...</td>\n",
       "      <td>it is really aggressive to blast obnoxious en...</td>\n",
       "      <td>really aggressive blast obnoxious entertainmen...</td>\n",
       "      <td>really aggressive blast obnoxious entertainmen...</td>\n",
       "    </tr>\n",
       "    <tr>\n",
       "      <th>4</th>\n",
       "      <td>negative</td>\n",
       "      <td>@VirginAmerica and it's a really big bad thing...</td>\n",
       "      <td>@virginamerica and it's a really big bad thing...</td>\n",
       "      <td>@virginamerica and it is a really big bad thin...</td>\n",
       "      <td>@virginamerica and it is a really big bad thin...</td>\n",
       "      <td>and it is a really big bad thing about it</td>\n",
       "      <td>really big bad thing</td>\n",
       "      <td>really big bad thing</td>\n",
       "    </tr>\n",
       "  </tbody>\n",
       "</table>\n",
       "</div>"
      ],
      "text/plain": [
       "  airline_sentiment                                               text  \\\n",
       "0          positive                @VirginAmerica What @dhepburn said.   \n",
       "1          positive  @VirginAmerica plus you've added commercials t...   \n",
       "2          positive  @VirginAmerica I didn't today... Must mean I n...   \n",
       "3          negative  @VirginAmerica it's really aggressive to blast...   \n",
       "4          negative  @VirginAmerica and it's a really big bad thing...   \n",
       "\n",
       "                                             1_lower  \\\n",
       "0                @virginamerica what @dhepburn said.   \n",
       "1  @virginamerica plus you've added commercials t...   \n",
       "2  @virginamerica i didn't today... must mean i n...   \n",
       "3  @virginamerica it's really aggressive to blast...   \n",
       "4  @virginamerica and it's a really big bad thing...   \n",
       "\n",
       "                                       2_contraction  \\\n",
       "0                @virginamerica what @dhepburn said.   \n",
       "1  @virginamerica plus you have added commercials...   \n",
       "2  @virginamerica i did not today... must mean i ...   \n",
       "3  @virginamerica it is really aggressive to blas...   \n",
       "4  @virginamerica and it is a really big bad thin...   \n",
       "\n",
       "                                            3_number  \\\n",
       "0                @virginamerica what @dhepburn said.   \n",
       "1  @virginamerica plus you have added commercials...   \n",
       "2  @virginamerica i did not today... must mean i ...   \n",
       "3  @virginamerica it is really aggressive to blas...   \n",
       "4  @virginamerica and it is a really big bad thin...   \n",
       "\n",
       "                                             4_punct  \\\n",
       "0                                         what  said   \n",
       "1   plus you have added commercials to the experi...   \n",
       "2   i did not today must mean i need to take anot...   \n",
       "3   it is really aggressive to blast obnoxious en...   \n",
       "4          and it is a really big bad thing about it   \n",
       "\n",
       "                                          5_stopword  \\\n",
       "0                                               said   \n",
       "1            plus added commercials experience tacky   \n",
       "2             today must mean need take another trip   \n",
       "3  really aggressive blast obnoxious entertainmen...   \n",
       "4                               really big bad thing   \n",
       "\n",
       "                                             6_white  \n",
       "0                                               said  \n",
       "1            plus added commercials experience tacky  \n",
       "2             today must mean need take another trip  \n",
       "3  really aggressive blast obnoxious entertainmen...  \n",
       "4                               really big bad thing  "
      ]
     },
     "execution_count": 25,
     "metadata": {},
     "output_type": "execute_result"
    }
   ],
   "source": [
    "def cleaning_all(urdf):\n",
    "    urdf['1_lower'] = urdf['text'].apply(to_lower)\n",
    "    urdf['2_contraction'] = urdf['1_lower'].apply(contractions.fix)\n",
    "    urdf['3_number'] = urdf['2_contraction'].apply(remove_number)\n",
    "    urdf['4_punct'] = urdf['3_number'].apply(remove_punctuation)\n",
    "    urdf['5_stopword'] = urdf['4_punct'].apply(remove_stopwords)\n",
    "    urdf['6_white'] = urdf['5_stopword'].apply(remove_whitespace)\n",
    "    return urdf\n",
    "df = cleaning_all(df)\n",
    "df.head()"
   ]
  },
  {
   "cell_type": "markdown",
   "metadata": {},
   "source": [
    "## Preprocessing Part 2\n",
    "\n",
    "Mengubah kata menjadi kata dasar\n",
    "\n",
    "Pilihan:\n",
    "- Stemming\n",
    "- Lemmatization"
   ]
  },
  {
   "cell_type": "code",
   "execution_count": 26,
   "metadata": {},
   "outputs": [],
   "source": [
    "from nltk.stem import SnowballStemmer, WordNetLemmatizer"
   ]
  },
  {
   "cell_type": "markdown",
   "metadata": {},
   "source": [
    "### Stemming"
   ]
  },
  {
   "cell_type": "code",
   "execution_count": 27,
   "metadata": {},
   "outputs": [],
   "source": [
    "stemmer = SnowballStemmer('english')"
   ]
  },
  {
   "cell_type": "code",
   "execution_count": 28,
   "metadata": {},
   "outputs": [],
   "source": [
    "def stem(text):\n",
    "    list_stemmed_word = []\n",
    "\n",
    "    for kalimat in nltk.sent_tokenize(text): # pecah paragraph menjadi kalimat\n",
    "        for kata in nltk.word_tokenize(kalimat): # pecah kalimat menjadi kata\n",
    "            stemmed_word = stemmer.stem(kata) # ubah kata ke kata dasarnya\n",
    "            list_stemmed_word.append(stemmed_word)\n",
    "\n",
    "    return ' '.join(list_stemmed_word)"
   ]
  },
  {
   "cell_type": "markdown",
   "metadata": {},
   "source": [
    "### Lemmatization"
   ]
  },
  {
   "cell_type": "code",
   "execution_count": 29,
   "metadata": {},
   "outputs": [],
   "source": [
    "lemmatizer = WordNetLemmatizer()"
   ]
  },
  {
   "cell_type": "code",
   "execution_count": 30,
   "metadata": {},
   "outputs": [],
   "source": [
    "def lemmatize(text):\n",
    "    list_lemmatized_word = []\n",
    "\n",
    "    for kalimat in nltk.sent_tokenize(text): # pecah paragraph menjadi kalimat\n",
    "        for kata in nltk.word_tokenize(kalimat): # pecah kalimat menjadi kata\n",
    "            lemmatized_word = lemmatizer.lemmatize(kata) # ubah kata ke kata dasarnya\n",
    "            list_lemmatized_word.append(lemmatized_word)\n",
    "\n",
    "    return ' '.join(list_lemmatized_word)"
   ]
  },
  {
   "cell_type": "code",
   "execution_count": 31,
   "metadata": {},
   "outputs": [
    {
     "data": {
      "text/html": [
       "<div>\n",
       "<style scoped>\n",
       "    .dataframe tbody tr th:only-of-type {\n",
       "        vertical-align: middle;\n",
       "    }\n",
       "\n",
       "    .dataframe tbody tr th {\n",
       "        vertical-align: top;\n",
       "    }\n",
       "\n",
       "    .dataframe thead th {\n",
       "        text-align: right;\n",
       "    }\n",
       "</style>\n",
       "<table border=\"1\" class=\"dataframe\">\n",
       "  <thead>\n",
       "    <tr style=\"text-align: right;\">\n",
       "      <th></th>\n",
       "      <th>airline_sentiment</th>\n",
       "      <th>text</th>\n",
       "      <th>1_lower</th>\n",
       "      <th>2_contraction</th>\n",
       "      <th>3_number</th>\n",
       "      <th>4_punct</th>\n",
       "      <th>5_stopword</th>\n",
       "      <th>6_white</th>\n",
       "      <th>stem</th>\n",
       "    </tr>\n",
       "  </thead>\n",
       "  <tbody>\n",
       "    <tr>\n",
       "      <th>0</th>\n",
       "      <td>positive</td>\n",
       "      <td>@VirginAmerica What @dhepburn said.</td>\n",
       "      <td>@virginamerica what @dhepburn said.</td>\n",
       "      <td>@virginamerica what @dhepburn said.</td>\n",
       "      <td>@virginamerica what @dhepburn said.</td>\n",
       "      <td>what  said</td>\n",
       "      <td>said</td>\n",
       "      <td>said</td>\n",
       "      <td>said</td>\n",
       "    </tr>\n",
       "    <tr>\n",
       "      <th>1</th>\n",
       "      <td>positive</td>\n",
       "      <td>@VirginAmerica plus you've added commercials t...</td>\n",
       "      <td>@virginamerica plus you've added commercials t...</td>\n",
       "      <td>@virginamerica plus you have added commercials...</td>\n",
       "      <td>@virginamerica plus you have added commercials...</td>\n",
       "      <td>plus you have added commercials to the experi...</td>\n",
       "      <td>plus added commercials experience tacky</td>\n",
       "      <td>plus added commercials experience tacky</td>\n",
       "      <td>plus ad commerci experi tacki</td>\n",
       "    </tr>\n",
       "  </tbody>\n",
       "</table>\n",
       "</div>"
      ],
      "text/plain": [
       "  airline_sentiment                                               text  \\\n",
       "0          positive                @VirginAmerica What @dhepburn said.   \n",
       "1          positive  @VirginAmerica plus you've added commercials t...   \n",
       "\n",
       "                                             1_lower  \\\n",
       "0                @virginamerica what @dhepburn said.   \n",
       "1  @virginamerica plus you've added commercials t...   \n",
       "\n",
       "                                       2_contraction  \\\n",
       "0                @virginamerica what @dhepburn said.   \n",
       "1  @virginamerica plus you have added commercials...   \n",
       "\n",
       "                                            3_number  \\\n",
       "0                @virginamerica what @dhepburn said.   \n",
       "1  @virginamerica plus you have added commercials...   \n",
       "\n",
       "                                             4_punct  \\\n",
       "0                                         what  said   \n",
       "1   plus you have added commercials to the experi...   \n",
       "\n",
       "                                5_stopword  \\\n",
       "0                                     said   \n",
       "1  plus added commercials experience tacky   \n",
       "\n",
       "                                   6_white                           stem  \n",
       "0                                     said                           said  \n",
       "1  plus added commercials experience tacky  plus ad commerci experi tacki  "
      ]
     },
     "execution_count": 31,
     "metadata": {},
     "output_type": "execute_result"
    }
   ],
   "source": [
    "df['stem'] = df['6_white'].apply(stem)\n",
    "df.head(2)"
   ]
  },
  {
   "cell_type": "code",
   "execution_count": 32,
   "metadata": {},
   "outputs": [
    {
     "data": {
      "text/html": [
       "<div>\n",
       "<style scoped>\n",
       "    .dataframe tbody tr th:only-of-type {\n",
       "        vertical-align: middle;\n",
       "    }\n",
       "\n",
       "    .dataframe tbody tr th {\n",
       "        vertical-align: top;\n",
       "    }\n",
       "\n",
       "    .dataframe thead th {\n",
       "        text-align: right;\n",
       "    }\n",
       "</style>\n",
       "<table border=\"1\" class=\"dataframe\">\n",
       "  <thead>\n",
       "    <tr style=\"text-align: right;\">\n",
       "      <th></th>\n",
       "      <th>airline_sentiment</th>\n",
       "      <th>text</th>\n",
       "      <th>1_lower</th>\n",
       "      <th>2_contraction</th>\n",
       "      <th>3_number</th>\n",
       "      <th>4_punct</th>\n",
       "      <th>5_stopword</th>\n",
       "      <th>6_white</th>\n",
       "      <th>stem</th>\n",
       "      <th>lemmatize</th>\n",
       "    </tr>\n",
       "  </thead>\n",
       "  <tbody>\n",
       "    <tr>\n",
       "      <th>0</th>\n",
       "      <td>positive</td>\n",
       "      <td>@VirginAmerica What @dhepburn said.</td>\n",
       "      <td>@virginamerica what @dhepburn said.</td>\n",
       "      <td>@virginamerica what @dhepburn said.</td>\n",
       "      <td>@virginamerica what @dhepburn said.</td>\n",
       "      <td>what  said</td>\n",
       "      <td>said</td>\n",
       "      <td>said</td>\n",
       "      <td>said</td>\n",
       "      <td>said</td>\n",
       "    </tr>\n",
       "    <tr>\n",
       "      <th>1</th>\n",
       "      <td>positive</td>\n",
       "      <td>@VirginAmerica plus you've added commercials t...</td>\n",
       "      <td>@virginamerica plus you've added commercials t...</td>\n",
       "      <td>@virginamerica plus you have added commercials...</td>\n",
       "      <td>@virginamerica plus you have added commercials...</td>\n",
       "      <td>plus you have added commercials to the experi...</td>\n",
       "      <td>plus added commercials experience tacky</td>\n",
       "      <td>plus added commercials experience tacky</td>\n",
       "      <td>plus ad commerci experi tacki</td>\n",
       "      <td>plus added commercial experience tacky</td>\n",
       "    </tr>\n",
       "  </tbody>\n",
       "</table>\n",
       "</div>"
      ],
      "text/plain": [
       "  airline_sentiment                                               text  \\\n",
       "0          positive                @VirginAmerica What @dhepburn said.   \n",
       "1          positive  @VirginAmerica plus you've added commercials t...   \n",
       "\n",
       "                                             1_lower  \\\n",
       "0                @virginamerica what @dhepburn said.   \n",
       "1  @virginamerica plus you've added commercials t...   \n",
       "\n",
       "                                       2_contraction  \\\n",
       "0                @virginamerica what @dhepburn said.   \n",
       "1  @virginamerica plus you have added commercials...   \n",
       "\n",
       "                                            3_number  \\\n",
       "0                @virginamerica what @dhepburn said.   \n",
       "1  @virginamerica plus you have added commercials...   \n",
       "\n",
       "                                             4_punct  \\\n",
       "0                                         what  said   \n",
       "1   plus you have added commercials to the experi...   \n",
       "\n",
       "                                5_stopword  \\\n",
       "0                                     said   \n",
       "1  plus added commercials experience tacky   \n",
       "\n",
       "                                   6_white                           stem  \\\n",
       "0                                     said                           said   \n",
       "1  plus added commercials experience tacky  plus ad commerci experi tacki   \n",
       "\n",
       "                                lemmatize  \n",
       "0                                    said  \n",
       "1  plus added commercial experience tacky  "
      ]
     },
     "execution_count": 32,
     "metadata": {},
     "output_type": "execute_result"
    }
   ],
   "source": [
    "df['lemmatize'] = df['6_white'].apply(lemmatize)\n",
    "df.head(2)"
   ]
  },
  {
   "cell_type": "code",
   "execution_count": 33,
   "metadata": {},
   "outputs": [
    {
     "data": {
      "text/plain": [
       "(14640, 10)"
      ]
     },
     "execution_count": 33,
     "metadata": {},
     "output_type": "execute_result"
    }
   ],
   "source": [
    "df.shape"
   ]
  },
  {
   "cell_type": "code",
   "execution_count": 34,
   "metadata": {},
   "outputs": [
    {
     "data": {
      "text/plain": [
       "(14138, 10)"
      ]
     },
     "execution_count": 34,
     "metadata": {},
     "output_type": "execute_result"
    }
   ],
   "source": [
    "df.drop_duplicates(subset='lemmatize').shape"
   ]
  },
  {
   "cell_type": "code",
   "execution_count": 35,
   "metadata": {},
   "outputs": [],
   "source": [
    "df.drop_duplicates(subset='lemmatize', inplace=True)"
   ]
  },
  {
   "cell_type": "code",
   "execution_count": 36,
   "metadata": {},
   "outputs": [],
   "source": [
    "def word_freq(text):\n",
    "\n",
    "    df_text = text.str.extractall('(\\w+)') # ambil tiap kata dari tiap document\n",
    "\n",
    "    df_text = df_text.reset_index()[0].value_counts()\n",
    "\n",
    "    df_text = df_text.to_frame().reset_index()\n",
    "\n",
    "    df_text = df_text.rename(columns={0:'word', 'count':'freq'})\n",
    "    return df_text\n"
   ]
  },
  {
   "cell_type": "code",
   "execution_count": 37,
   "metadata": {},
   "outputs": [
    {
     "data": {
      "text/html": [
       "<div>\n",
       "<style scoped>\n",
       "    .dataframe tbody tr th:only-of-type {\n",
       "        vertical-align: middle;\n",
       "    }\n",
       "\n",
       "    .dataframe tbody tr th {\n",
       "        vertical-align: top;\n",
       "    }\n",
       "\n",
       "    .dataframe thead th {\n",
       "        text-align: right;\n",
       "    }\n",
       "</style>\n",
       "<table border=\"1\" class=\"dataframe\">\n",
       "  <thead>\n",
       "    <tr style=\"text-align: right;\">\n",
       "      <th></th>\n",
       "      <th>word</th>\n",
       "      <th>freq</th>\n",
       "    </tr>\n",
       "  </thead>\n",
       "  <tbody>\n",
       "    <tr>\n",
       "      <th>0</th>\n",
       "      <td>flight</td>\n",
       "      <td>4458</td>\n",
       "    </tr>\n",
       "    <tr>\n",
       "      <th>1</th>\n",
       "      <td>get</td>\n",
       "      <td>1360</td>\n",
       "    </tr>\n",
       "    <tr>\n",
       "      <th>2</th>\n",
       "      <td>hour</td>\n",
       "      <td>1134</td>\n",
       "    </tr>\n",
       "    <tr>\n",
       "      <th>3</th>\n",
       "      <td>thanks</td>\n",
       "      <td>1067</td>\n",
       "    </tr>\n",
       "    <tr>\n",
       "      <th>4</th>\n",
       "      <td>cancelled</td>\n",
       "      <td>1030</td>\n",
       "    </tr>\n",
       "    <tr>\n",
       "      <th>...</th>\n",
       "      <td>...</td>\n",
       "      <td>...</td>\n",
       "    </tr>\n",
       "    <tr>\n",
       "      <th>12616</th>\n",
       "      <td>httptcopdntgbxc</td>\n",
       "      <td>1</td>\n",
       "    </tr>\n",
       "    <tr>\n",
       "      <th>12617</th>\n",
       "      <td>deed</td>\n",
       "      <td>1</td>\n",
       "    </tr>\n",
       "    <tr>\n",
       "      <th>12618</th>\n",
       "      <td>curse</td>\n",
       "      <td>1</td>\n",
       "    </tr>\n",
       "    <tr>\n",
       "      <th>12619</th>\n",
       "      <td>notmadeofmoney</td>\n",
       "      <td>1</td>\n",
       "    </tr>\n",
       "    <tr>\n",
       "      <th>12620</th>\n",
       "      <td>blackberry</td>\n",
       "      <td>1</td>\n",
       "    </tr>\n",
       "  </tbody>\n",
       "</table>\n",
       "<p>12621 rows × 2 columns</p>\n",
       "</div>"
      ],
      "text/plain": [
       "                  word  freq\n",
       "0               flight  4458\n",
       "1                  get  1360\n",
       "2                 hour  1134\n",
       "3               thanks  1067\n",
       "4            cancelled  1030\n",
       "...                ...   ...\n",
       "12616  httptcopdntgbxc     1\n",
       "12617             deed     1\n",
       "12618            curse     1\n",
       "12619   notmadeofmoney     1\n",
       "12620       blackberry     1\n",
       "\n",
       "[12621 rows x 2 columns]"
      ]
     },
     "execution_count": 37,
     "metadata": {},
     "output_type": "execute_result"
    }
   ],
   "source": [
    "word_freq(df['lemmatize'])"
   ]
  },
  {
   "cell_type": "code",
   "execution_count": 38,
   "metadata": {},
   "outputs": [
    {
     "data": {
      "text/plain": [
       "airline_sentiment\n",
       "negative    9034\n",
       "positive    5104\n",
       "Name: count, dtype: int64"
      ]
     },
     "execution_count": 38,
     "metadata": {},
     "output_type": "execute_result"
    }
   ],
   "source": [
    "df['airline_sentiment'].value_counts()"
   ]
  },
  {
   "cell_type": "code",
   "execution_count": 39,
   "metadata": {},
   "outputs": [
    {
     "data": {
      "image/png": "[encoded data removed]",
      "text/plain": [
       "<Figure size 640x480 with 1 Axes>"
      ]
     },
     "metadata": {},
     "output_type": "display_data"
    }
   ],
   "source": [
    "# Top 10 most frequent words\n",
    "\n",
    "spam_data = df[df['airline_sentiment'] == 'positive']['lemmatize']\n",
    "plt.title(\"Frequency of positive words\")\n",
    "\n",
    "sns.barplot(\n",
    "    data=word_freq(spam_data).loc[:10],\n",
    "    x='freq',\n",
    "    y='word',\n",
    "    hue='word'\n",
    ")\n",
    "plt.show()"
   ]
  },
  {
   "cell_type": "code",
   "execution_count": 40,
   "metadata": {},
   "outputs": [
    {
     "data": {
      "text/plain": [
       "<Axes: title={'center': 'Frequency of negative words'}, xlabel='freq', ylabel='word'>"
      ]
     },
     "execution_count": 40,
     "metadata": {},
     "output_type": "execute_result"
    },
    {
     "data": {
      "image/png": "[encoded data removed]",
      "text/plain": [
       "<Figure size 640x480 with 1 Axes>"
      ]
     },
     "metadata": {},
     "output_type": "display_data"
    }
   ],
   "source": [
    "# Top 10 most frequent words\n",
    "\n",
    "not_spam_data = df[df['airline_sentiment'] == 'negative']['lemmatize']\n",
    "plt.title(\"Frequency of negative words\")\n",
    "\n",
    "sns.barplot(\n",
    "    data=word_freq(not_spam_data).loc[:10],\n",
    "    x='freq',\n",
    "    y='word',\n",
    "    hue='word'\n",
    ")"
   ]
  },
  {
   "cell_type": "markdown",
   "metadata": {},
   "source": [
    "Insight\n",
    "\n",
    "- Pada tweet positive paling sering muncul kata: flight, thanks, thank\n",
    "- pada tweet negative paling sering muncul kata: flight, hour, get\n",
    "- kata 'flight','u', 'get' jika mau dianggap sebagai stopwords, maka bisa kita hapus"
   ]
  },
  {
   "cell_type": "markdown",
   "metadata": {},
   "source": [
    "## 2. Length of Document"
   ]
  },
  {
   "cell_type": "code",
   "execution_count": 41,
   "metadata": {},
   "outputs": [],
   "source": [
    "df['len_char'] = df['lemmatize'].apply(len)"
   ]
  },
  {
   "cell_type": "code",
   "execution_count": 42,
   "metadata": {},
   "outputs": [
    {
     "data": {
      "text/html": [
       "<div>\n",
       "<style scoped>\n",
       "    .dataframe tbody tr th:only-of-type {\n",
       "        vertical-align: middle;\n",
       "    }\n",
       "\n",
       "    .dataframe tbody tr th {\n",
       "        vertical-align: top;\n",
       "    }\n",
       "\n",
       "    .dataframe thead th {\n",
       "        text-align: right;\n",
       "    }\n",
       "</style>\n",
       "<table border=\"1\" class=\"dataframe\">\n",
       "  <thead>\n",
       "    <tr style=\"text-align: right;\">\n",
       "      <th></th>\n",
       "      <th>airline_sentiment</th>\n",
       "      <th>text</th>\n",
       "      <th>1_lower</th>\n",
       "      <th>2_contraction</th>\n",
       "      <th>3_number</th>\n",
       "      <th>4_punct</th>\n",
       "      <th>5_stopword</th>\n",
       "      <th>6_white</th>\n",
       "      <th>stem</th>\n",
       "      <th>lemmatize</th>\n",
       "      <th>len_char</th>\n",
       "      <th>len_word</th>\n",
       "    </tr>\n",
       "  </thead>\n",
       "  <tbody>\n",
       "    <tr>\n",
       "      <th>0</th>\n",
       "      <td>positive</td>\n",
       "      <td>@VirginAmerica What @dhepburn said.</td>\n",
       "      <td>@virginamerica what @dhepburn said.</td>\n",
       "      <td>@virginamerica what @dhepburn said.</td>\n",
       "      <td>@virginamerica what @dhepburn said.</td>\n",
       "      <td>what  said</td>\n",
       "      <td>said</td>\n",
       "      <td>said</td>\n",
       "      <td>said</td>\n",
       "      <td>said</td>\n",
       "      <td>4</td>\n",
       "      <td>1</td>\n",
       "    </tr>\n",
       "    <tr>\n",
       "      <th>1</th>\n",
       "      <td>positive</td>\n",
       "      <td>@VirginAmerica plus you've added commercials t...</td>\n",
       "      <td>@virginamerica plus you've added commercials t...</td>\n",
       "      <td>@virginamerica plus you have added commercials...</td>\n",
       "      <td>@virginamerica plus you have added commercials...</td>\n",
       "      <td>plus you have added commercials to the experi...</td>\n",
       "      <td>plus added commercials experience tacky</td>\n",
       "      <td>plus added commercials experience tacky</td>\n",
       "      <td>plus ad commerci experi tacki</td>\n",
       "      <td>plus added commercial experience tacky</td>\n",
       "      <td>38</td>\n",
       "      <td>5</td>\n",
       "    </tr>\n",
       "    <tr>\n",
       "      <th>2</th>\n",
       "      <td>positive</td>\n",
       "      <td>@VirginAmerica I didn't today... Must mean I n...</td>\n",
       "      <td>@virginamerica i didn't today... must mean i n...</td>\n",
       "      <td>@virginamerica i did not today... must mean i ...</td>\n",
       "      <td>@virginamerica i did not today... must mean i ...</td>\n",
       "      <td>i did not today must mean i need to take anot...</td>\n",
       "      <td>today must mean need take another trip</td>\n",
       "      <td>today must mean need take another trip</td>\n",
       "      <td>today must mean need take anoth trip</td>\n",
       "      <td>today must mean need take another trip</td>\n",
       "      <td>38</td>\n",
       "      <td>7</td>\n",
       "    </tr>\n",
       "  </tbody>\n",
       "</table>\n",
       "</div>"
      ],
      "text/plain": [
       "  airline_sentiment                                               text  \\\n",
       "0          positive                @VirginAmerica What @dhepburn said.   \n",
       "1          positive  @VirginAmerica plus you've added commercials t...   \n",
       "2          positive  @VirginAmerica I didn't today... Must mean I n...   \n",
       "\n",
       "                                             1_lower  \\\n",
       "0                @virginamerica what @dhepburn said.   \n",
       "1  @virginamerica plus you've added commercials t...   \n",
       "2  @virginamerica i didn't today... must mean i n...   \n",
       "\n",
       "                                       2_contraction  \\\n",
       "0                @virginamerica what @dhepburn said.   \n",
       "1  @virginamerica plus you have added commercials...   \n",
       "2  @virginamerica i did not today... must mean i ...   \n",
       "\n",
       "                                            3_number  \\\n",
       "0                @virginamerica what @dhepburn said.   \n",
       "1  @virginamerica plus you have added commercials...   \n",
       "2  @virginamerica i did not today... must mean i ...   \n",
       "\n",
       "                                             4_punct  \\\n",
       "0                                         what  said   \n",
       "1   plus you have added commercials to the experi...   \n",
       "2   i did not today must mean i need to take anot...   \n",
       "\n",
       "                                5_stopword  \\\n",
       "0                                     said   \n",
       "1  plus added commercials experience tacky   \n",
       "2   today must mean need take another trip   \n",
       "\n",
       "                                   6_white  \\\n",
       "0                                     said   \n",
       "1  plus added commercials experience tacky   \n",
       "2   today must mean need take another trip   \n",
       "\n",
       "                                   stem  \\\n",
       "0                                  said   \n",
       "1         plus ad commerci experi tacki   \n",
       "2  today must mean need take anoth trip   \n",
       "\n",
       "                                lemmatize  len_char  len_word  \n",
       "0                                    said         4         1  \n",
       "1  plus added commercial experience tacky        38         5  \n",
       "2  today must mean need take another trip        38         7  "
      ]
     },
     "execution_count": 42,
     "metadata": {},
     "output_type": "execute_result"
    }
   ],
   "source": [
    "df['len_word'] = df['lemmatize'].apply(lambda x: len(x.split()))\n",
    "\n",
    "df.head(3)"
   ]
  },
  {
   "cell_type": "markdown",
   "metadata": {},
   "source": [
    "# EDA"
   ]
  },
  {
   "cell_type": "code",
   "execution_count": 43,
   "metadata": {},
   "outputs": [
    {
     "data": {
      "image/png": "[encoded data removed]",
      "text/plain": [
       "<Figure size 640x480 with 1 Axes>"
      ]
     },
     "metadata": {},
     "output_type": "display_data"
    }
   ],
   "source": [
    "plt.title('Distribution of Number of Character in Positive vs Negative Tweet')\n",
    "sns.boxenplot(data=df, x='len_char', y='airline_sentiment');"
   ]
  },
  {
   "cell_type": "code",
   "execution_count": 44,
   "metadata": {},
   "outputs": [
    {
     "data": {
      "image/png": "[encoded data removed]",
      "text/plain": [
       "<Figure size 640x480 with 1 Axes>"
      ]
     },
     "metadata": {},
     "output_type": "display_data"
    }
   ],
   "source": [
    "plt.title('Distribution of Number of Character in Positive vs Negative Tweet')\n",
    "sns.histplot(data=df, x='len_char', hue='airline_sentiment');"
   ]
  },
  {
   "cell_type": "markdown",
   "metadata": {},
   "source": [
    "Insight:\n",
    "- Tweet Negatif cenderung lebih banyak jumlah karakternya dibanding Tweet Positif"
   ]
  },
  {
   "cell_type": "markdown",
   "metadata": {},
   "source": [
    "Tujuan dari klasifikasi tweet ini adalah untuk memberikan alarm/warning ketika muncul sebuah tweet negatif sehingga tim PR (Public Relation) bisa menghandle tweet negatif tsb dengan cepat."
   ]
  },
  {
   "cell_type": "markdown",
   "metadata": {},
   "source": [
    "**Tujuan selalu berada di positif**, karena tujuannya itu tweet negatif maka :\n",
    "\n",
    "- class 0 (1) : itu merupakan tweet positif\n",
    "\n",
    "- class 1 (+) : itu merupakan tweet negatif"
   ]
  },
  {
   "cell_type": "markdown",
   "metadata": {},
   "source": [
    "berdasarkan tujuan dari klasifikasi ini akan lebih baik jika menggunakan recall karena ingin mencegah terjadinya error pada FN"
   ]
  },
  {
   "cell_type": "markdown",
   "metadata": {},
   "source": [
    "FP: Diprediksi tweet negatif -> alarm nyala -> actualnya tweet positive -> cost : waktu untuk cek tweet\n",
    "\n",
    "FN: Diprediksi tweet positif -> alarm tidak menyala -> actualnya tweet negatif -> cost : tweet negatif tidak di handle (merusak reputasi)"
   ]
  },
  {
   "cell_type": "markdown",
   "metadata": {},
   "source": [
    "---\n",
    "# Bag of Words (Document Term Matrix)\n",
    "\n",
    "- TF (Term Frequency)\n",
    "- TF-IDF (Term Frequency - Inverse Document Frequency)\n"
   ]
  },
  {
   "cell_type": "code",
   "execution_count": 45,
   "metadata": {},
   "outputs": [],
   "source": [
    "from sklearn.feature_extraction.text import CountVectorizer, TfidfVectorizer"
   ]
  },
  {
   "cell_type": "markdown",
   "metadata": {},
   "source": [
    "## Vectorizer"
   ]
  },
  {
   "cell_type": "markdown",
   "metadata": {},
   "source": [
    "## 1. TF (Term Frequency)\n",
    "\n",
    "CountVectorizer\n",
    "\n",
    "Berapa kali sebuah kata muncul dalam sebuah dokumen (tweet/email/dll)\n"
   ]
  },
  {
   "cell_type": "code",
   "execution_count": 46,
   "metadata": {},
   "outputs": [],
   "source": [
    "# define vectorizer\n",
    "vect_tf = CountVectorizer(ngram_range=(1,1))"
   ]
  },
  {
   "cell_type": "markdown",
   "metadata": {},
   "source": [
    "## 2. TF-IDF\n",
    "\n",
    "- TF -> Semakin sering sebuah kata muncul dalam 1 dokumen, maka skornya semakin besar\n",
    "- IDF -> semakin sering sebuah kata muncul dalam banyak dokumen (katanya semakin pasar), skornya semakin kecil"
   ]
  },
  {
   "cell_type": "code",
   "execution_count": 47,
   "metadata": {},
   "outputs": [],
   "source": [
    "# define vectorizer\n",
    "vect_tfidf = TfidfVectorizer(norm=None, ngram_range=(1,1))"
   ]
  },
  {
   "cell_type": "code",
   "execution_count": 48,
   "metadata": {},
   "outputs": [
    {
     "data": {
      "text/html": [
       "<div>\n",
       "<style scoped>\n",
       "    .dataframe tbody tr th:only-of-type {\n",
       "        vertical-align: middle;\n",
       "    }\n",
       "\n",
       "    .dataframe tbody tr th {\n",
       "        vertical-align: top;\n",
       "    }\n",
       "\n",
       "    .dataframe thead th {\n",
       "        text-align: right;\n",
       "    }\n",
       "</style>\n",
       "<table border=\"1\" class=\"dataframe\">\n",
       "  <thead>\n",
       "    <tr style=\"text-align: right;\">\n",
       "      <th></th>\n",
       "      <th>lemmatize</th>\n",
       "      <th>airline_sentiment</th>\n",
       "    </tr>\n",
       "  </thead>\n",
       "  <tbody>\n",
       "    <tr>\n",
       "      <th>0</th>\n",
       "      <td>said</td>\n",
       "      <td>positive</td>\n",
       "    </tr>\n",
       "    <tr>\n",
       "      <th>1</th>\n",
       "      <td>plus added commercial experience tacky</td>\n",
       "      <td>positive</td>\n",
       "    </tr>\n",
       "    <tr>\n",
       "      <th>2</th>\n",
       "      <td>today must mean need take another trip</td>\n",
       "      <td>positive</td>\n",
       "    </tr>\n",
       "    <tr>\n",
       "      <th>3</th>\n",
       "      <td>really aggressive blast obnoxious entertainmen...</td>\n",
       "      <td>negative</td>\n",
       "    </tr>\n",
       "    <tr>\n",
       "      <th>4</th>\n",
       "      <td>really big bad thing</td>\n",
       "      <td>negative</td>\n",
       "    </tr>\n",
       "  </tbody>\n",
       "</table>\n",
       "</div>"
      ],
      "text/plain": [
       "                                           lemmatize airline_sentiment\n",
       "0                                               said          positive\n",
       "1             plus added commercial experience tacky          positive\n",
       "2             today must mean need take another trip          positive\n",
       "3  really aggressive blast obnoxious entertainmen...          negative\n",
       "4                               really big bad thing          negative"
      ]
     },
     "execution_count": 48,
     "metadata": {},
     "output_type": "execute_result"
    }
   ],
   "source": [
    "# Load Dataset\n",
    "df_clean = df[['lemmatize', 'airline_sentiment']].copy()\n",
    "df_clean.head()"
   ]
  },
  {
   "cell_type": "code",
   "execution_count": 49,
   "metadata": {},
   "outputs": [
    {
     "data": {
      "text/html": [
       "<div>\n",
       "<style scoped>\n",
       "    .dataframe tbody tr th:only-of-type {\n",
       "        vertical-align: middle;\n",
       "    }\n",
       "\n",
       "    .dataframe tbody tr th {\n",
       "        vertical-align: top;\n",
       "    }\n",
       "\n",
       "    .dataframe thead th {\n",
       "        text-align: right;\n",
       "    }\n",
       "</style>\n",
       "<table border=\"1\" class=\"dataframe\">\n",
       "  <thead>\n",
       "    <tr style=\"text-align: right;\">\n",
       "      <th></th>\n",
       "      <th>lemmatize</th>\n",
       "      <th>airline_sentiment</th>\n",
       "    </tr>\n",
       "  </thead>\n",
       "  <tbody>\n",
       "    <tr>\n",
       "      <th>0</th>\n",
       "      <td>said</td>\n",
       "      <td>0</td>\n",
       "    </tr>\n",
       "    <tr>\n",
       "      <th>1</th>\n",
       "      <td>plus added commercial experience tacky</td>\n",
       "      <td>0</td>\n",
       "    </tr>\n",
       "    <tr>\n",
       "      <th>2</th>\n",
       "      <td>today must mean need take another trip</td>\n",
       "      <td>0</td>\n",
       "    </tr>\n",
       "    <tr>\n",
       "      <th>3</th>\n",
       "      <td>really aggressive blast obnoxious entertainmen...</td>\n",
       "      <td>1</td>\n",
       "    </tr>\n",
       "    <tr>\n",
       "      <th>4</th>\n",
       "      <td>really big bad thing</td>\n",
       "      <td>1</td>\n",
       "    </tr>\n",
       "  </tbody>\n",
       "</table>\n",
       "</div>"
      ],
      "text/plain": [
       "                                           lemmatize  airline_sentiment\n",
       "0                                               said                  0\n",
       "1             plus added commercial experience tacky                  0\n",
       "2             today must mean need take another trip                  0\n",
       "3  really aggressive blast obnoxious entertainmen...                  1\n",
       "4                               really big bad thing                  1"
      ]
     },
     "execution_count": 49,
     "metadata": {},
     "output_type": "execute_result"
    }
   ],
   "source": [
    "df_clean['airline_sentiment'] = np.where(df_clean['airline_sentiment'] == 'negative', 1, 0)\n",
    "\n",
    "df_clean.head()"
   ]
  },
  {
   "cell_type": "code",
   "execution_count": 50,
   "metadata": {},
   "outputs": [],
   "source": [
    "X = df_clean['lemmatize']\n",
    "y = df_clean['airline_sentiment']"
   ]
  },
  {
   "cell_type": "code",
   "execution_count": 51,
   "metadata": {},
   "outputs": [
    {
     "data": {
      "text/plain": [
       "airline_sentiment\n",
       "1    63.898713\n",
       "0    36.101287\n",
       "Name: count, dtype: float64"
      ]
     },
     "execution_count": 51,
     "metadata": {},
     "output_type": "execute_result"
    }
   ],
   "source": [
    "y.value_counts()/len(y) * 100 # imbalance"
   ]
  },
  {
   "cell_type": "markdown",
   "metadata": {},
   "source": [
    "## Train Test Split"
   ]
  },
  {
   "cell_type": "code",
   "execution_count": 52,
   "metadata": {},
   "outputs": [],
   "source": [
    "from sklearn.model_selection import train_test_split"
   ]
  },
  {
   "cell_type": "code",
   "execution_count": 53,
   "metadata": {},
   "outputs": [],
   "source": [
    "# Splitting data training dan test dengan proporsi 70:30\n",
    "X_train, X_test, y_train, y_test= train_test_split(\n",
    "    X,\n",
    "    y,  \n",
    "    stratify=y,\n",
    "    test_size=0.2,\n",
    "    random_state=0)"
   ]
  },
  {
   "cell_type": "code",
   "execution_count": 54,
   "metadata": {},
   "outputs": [],
   "source": [
    "# algorithm\n",
    "from sklearn.linear_model import LogisticRegression\n",
    "from sklearn.neighbors import KNeighborsClassifier\n",
    "from sklearn.tree import DecisionTreeClassifier"
   ]
  },
  {
   "cell_type": "code",
   "execution_count": 55,
   "metadata": {},
   "outputs": [],
   "source": [
    "from imblearn.pipeline import Pipeline\n",
    "from imblearn.under_sampling import RandomUnderSampler, NearMiss\n",
    "from imblearn.over_sampling import RandomOverSampler, SMOTE\n",
    "from sklearn.tree import DecisionTreeClassifier\n",
    "from sklearn.model_selection import cross_val_score, RandomizedSearchCV, TimeSeriesSplit"
   ]
  },
  {
   "cell_type": "code",
   "execution_count": 56,
   "metadata": {},
   "outputs": [],
   "source": [
    "from sklearn.ensemble import VotingClassifier, StackingClassifier"
   ]
  },
  {
   "cell_type": "code",
   "execution_count": 57,
   "metadata": {},
   "outputs": [],
   "source": [
    "# algo\n",
    "logreg = LogisticRegression(solver=\"liblinear\", random_state=0)\n",
    "knn = KNeighborsClassifier(n_neighbors=5)\n",
    "tree = DecisionTreeClassifier(max_depth=5, random_state=0)"
   ]
  },
  {
   "cell_type": "code",
   "execution_count": 58,
   "metadata": {},
   "outputs": [],
   "source": [
    "# Voting Classifier\n",
    "voting = VotingClassifier(estimators=[\n",
    "    ('clf1', logreg),\n",
    "    ('clf2', knn),\n",
    "    ('clf3', tree)\n",
    "])\n",
    "\n",
    "# Stacking Classifier\n",
    "stacking = StackingClassifier(estimators=[\n",
    "    ('clf1', logreg),\n",
    "    ('clf2', knn),\n",
    "    ('clf3', tree)\n",
    "], \n",
    "final_estimator=logreg # digunakan untuk meta learner\n",
    ")"
   ]
  },
  {
   "cell_type": "code",
   "execution_count": 59,
   "metadata": {},
   "outputs": [],
   "source": [
    "# cross validation memilih model terbaik berdasarkan mae\n",
    "models = [logreg, knn, tree, voting, stacking]\n",
    "\n",
    "list_all = []\n",
    "list_mean = []\n",
    "list_std = []\n",
    "\n",
    "# mencari model terbaik berdasarkan MAE terkecil\n",
    "for i in models:\n",
    "\n",
    "    # Pipeline berisi 3 tahap, untuk diisi di pada estimator di cross val\n",
    "    pipe_model = Pipeline([\n",
    "                        ('preprocess', vect_tf),\n",
    "                        ('model', i)\n",
    "                    ])\n",
    "\n",
    "    # cross val\n",
    "    # cross_validate untuk menghitung skor untuk beberapa metrik\n",
    "    cv_score = cross_val_score(\n",
    "        estimator = pipe_model, \n",
    "        X = X_train, # menggunakan X_train awal (karena transform dan scaling dilakukan di Pipeline)\n",
    "        y = y_train, \n",
    "        cv = 5,\n",
    "        scoring = 'recall',\n",
    "        error_score = \"raise\",\n",
    "        n_jobs = -1\n",
    "    )\n",
    "    \n",
    "    list_all.append(cv_score.round(4))\n",
    "    list_mean.append(cv_score.mean())\n",
    "    list_std.append(cv_score.std())"
   ]
  },
  {
   "cell_type": "code",
   "execution_count": 60,
   "metadata": {},
   "outputs": [
    {
     "data": {
      "text/html": [
       "<div>\n",
       "<style scoped>\n",
       "    .dataframe tbody tr th:only-of-type {\n",
       "        vertical-align: middle;\n",
       "    }\n",
       "\n",
       "    .dataframe tbody tr th {\n",
       "        vertical-align: top;\n",
       "    }\n",
       "\n",
       "    .dataframe thead th {\n",
       "        text-align: right;\n",
       "    }\n",
       "</style>\n",
       "<table border=\"1\" class=\"dataframe\">\n",
       "  <thead>\n",
       "    <tr style=\"text-align: right;\">\n",
       "      <th></th>\n",
       "      <th>algo</th>\n",
       "      <th>all</th>\n",
       "      <th>mean</th>\n",
       "      <th>std</th>\n",
       "    </tr>\n",
       "  </thead>\n",
       "  <tbody>\n",
       "    <tr>\n",
       "      <th>0</th>\n",
       "      <td>LogisticRegression(random_state=0, solver='lib...</td>\n",
       "      <td>[0.8491, 0.8533, 0.8685, 0.888, 0.8534]</td>\n",
       "      <td>0.862458</td>\n",
       "      <td>0.014361</td>\n",
       "    </tr>\n",
       "    <tr>\n",
       "      <th>1</th>\n",
       "      <td>KNeighborsClassifier()</td>\n",
       "      <td>[0.4547, 0.4457, 0.3986, 0.4246, 0.3658]</td>\n",
       "      <td>0.417884</td>\n",
       "      <td>0.032407</td>\n",
       "    </tr>\n",
       "    <tr>\n",
       "      <th>2</th>\n",
       "      <td>DecisionTreeClassifier(max_depth=5, random_sta...</td>\n",
       "      <td>[0.9522, 0.964, 0.9654, 0.971, 0.9599]</td>\n",
       "      <td>0.962501</td>\n",
       "      <td>0.006230</td>\n",
       "    </tr>\n",
       "    <tr>\n",
       "      <th>3</th>\n",
       "      <td>VotingClassifier(estimators=[('clf1',\\n       ...</td>\n",
       "      <td>[0.8533, 0.8491, 0.8616, 0.8817, 0.8485]</td>\n",
       "      <td>0.858861</td>\n",
       "      <td>0.012354</td>\n",
       "    </tr>\n",
       "    <tr>\n",
       "      <th>4</th>\n",
       "      <td>StackingClassifier(estimators=[('clf1',\\n     ...</td>\n",
       "      <td>[0.8588, 0.8554, 0.8754, 0.8949, 0.8686]</td>\n",
       "      <td>0.870621</td>\n",
       "      <td>0.014056</td>\n",
       "    </tr>\n",
       "  </tbody>\n",
       "</table>\n",
       "</div>"
      ],
      "text/plain": [
       "                                                algo  \\\n",
       "0  LogisticRegression(random_state=0, solver='lib...   \n",
       "1                             KNeighborsClassifier()   \n",
       "2  DecisionTreeClassifier(max_depth=5, random_sta...   \n",
       "3  VotingClassifier(estimators=[('clf1',\\n       ...   \n",
       "4  StackingClassifier(estimators=[('clf1',\\n     ...   \n",
       "\n",
       "                                        all      mean       std  \n",
       "0   [0.8491, 0.8533, 0.8685, 0.888, 0.8534]  0.862458  0.014361  \n",
       "1  [0.4547, 0.4457, 0.3986, 0.4246, 0.3658]  0.417884  0.032407  \n",
       "2    [0.9522, 0.964, 0.9654, 0.971, 0.9599]  0.962501  0.006230  \n",
       "3  [0.8533, 0.8491, 0.8616, 0.8817, 0.8485]  0.858861  0.012354  \n",
       "4  [0.8588, 0.8554, 0.8754, 0.8949, 0.8686]  0.870621  0.014056  "
      ]
     },
     "execution_count": 60,
     "metadata": {},
     "output_type": "execute_result"
    }
   ],
   "source": [
    "df_cv = pd.DataFrame()\n",
    "df_cv['algo'] = models\n",
    "df_cv['all']= list_all\n",
    "df_cv['mean'] = list_mean\n",
    "df_cv['std'] = list_std\n",
    "\n",
    "df_cv"
   ]
  },
  {
   "cell_type": "markdown",
   "metadata": {},
   "source": [
    "## Hyperparameter Tuning"
   ]
  },
  {
   "cell_type": "code",
   "execution_count": 61,
   "metadata": {},
   "outputs": [
    {
     "data": {
      "text/plain": [
       "airline_sentiment\n",
       "1    1807\n",
       "0    1021\n",
       "Name: count, dtype: int64"
      ]
     },
     "execution_count": 61,
     "metadata": {},
     "output_type": "execute_result"
    }
   ],
   "source": [
    "y_test.value_counts()"
   ]
  },
  {
   "cell_type": "code",
   "execution_count": 62,
   "metadata": {},
   "outputs": [],
   "source": [
    "# oversampling\n",
    "smote = SMOTE(random_state=0, sampling_strategy= \"minority\" )"
   ]
  },
  {
   "cell_type": "code",
   "execution_count": 63,
   "metadata": {},
   "outputs": [],
   "source": [
    "# undersampling\n",
    "nearmiss = NearMiss(sampling_strategy=\"majority\")"
   ]
  },
  {
   "cell_type": "code",
   "execution_count": 64,
   "metadata": {},
   "outputs": [],
   "source": [
    "vect_tf2 = CountVectorizer(ngram_range=(2,2))\n",
    "vect_tfidf2 = TfidfVectorizer(ngram_range=(2,2), norm=None)\n",
    "# param_grid\n",
    "hyperparam = {\n",
    "    \"modeling__max_depth\": range(2, 31, 1),\n",
    "    \"modeling__criterion\": ['gini', 'entropy', 'log_loss'],\n",
    "    \"modeling__min_samples_split\": range(2, 50, 1),\n",
    "    \"modeling__min_samples_leaf\": range(2, 50, 1),\n",
    "    \"resampling\": [smote, nearmiss],\n",
    "    # \"vect__ngram_range\" : [(1,1),(2,2)],\n",
    "    \"vect\": [vect_tf, vect_tf2, vect_tfidf, vect_tfidf2]\n",
    "}\n",
    "\n",
    "# pipeline\n",
    "pipe_model = Pipeline([\n",
    "    (\"vect\", None),\n",
    "    ('resampling', None),\n",
    "    (\"modeling\", tree)\n",
    "])\n",
    "\n",
    "# tuning -> gridsearchcv\n",
    "randomsearch = RandomizedSearchCV(\n",
    "    estimator=pipe_model,\n",
    "    param_distributions =hyperparam,\n",
    "    cv=5,\n",
    "    scoring=\"recall\",\n",
    "    n_jobs=-1,\n",
    "    n_iter=100,\n",
    "    random_state=0\n",
    ")"
   ]
  },
  {
   "cell_type": "code",
   "execution_count": 65,
   "metadata": {},
   "outputs": [
    {
     "name": "stderr",
     "output_type": "stream",
     "text": [
      "/Library/Frameworks/Python.framework/Versions/3.11/lib/python3.11/site-packages/joblib/externals/loky/process_executor.py:752: UserWarning: A worker stopped while some jobs were given to the executor. This can be caused by a too short worker timeout or by a memory leak.\n",
      "  warnings.warn(\n"
     ]
    },
    {
     "data": {
      "text/html": [
       "<style>#sk-container-id-1 {color: black;}#sk-container-id-1 pre{padding: 0;}#sk-container-id-1 div.sk-toggleable {background-color: white;}#sk-container-id-1 label.sk-toggleable__label {cursor: pointer;display: block;width: 100%;margin-bottom: 0;padding: 0.3em;box-sizing: border-box;text-align: center;}#sk-container-id-1 label.sk-toggleable__label-arrow:before {content: \"▸\";float: left;margin-right: 0.25em;color: #696969;}#sk-container-id-1 label.sk-toggleable__label-arrow:hover:before {color: black;}#sk-container-id-1 div.sk-estimator:hover label.sk-toggleable__label-arrow:before {color: black;}#sk-container-id-1 div.sk-toggleable__content {max-height: 0;max-width: 0;overflow: hidden;text-align: left;background-color: #f0f8ff;}#sk-container-id-1 div.sk-toggleable__content pre {margin: 0.2em;color: black;border-radius: 0.25em;background-color: #f0f8ff;}#sk-container-id-1 input.sk-toggleable__control:checked~div.sk-toggleable__content {max-height: 200px;max-width: 100%;overflow: auto;}#sk-container-id-1 input.sk-toggleable__control:checked~label.sk-toggleable__label-arrow:before {content: \"▾\";}#sk-container-id-1 div.sk-estimator input.sk-toggleable__control:checked~label.sk-toggleable__label {background-color: #d4ebff;}#sk-container-id-1 div.sk-label input.sk-toggleable__control:checked~label.sk-toggleable__label {background-color: #d4ebff;}#sk-container-id-1 input.sk-hidden--visually {border: 0;clip: rect(1px 1px 1px 1px);clip: rect(1px, 1px, 1px, 1px);height: 1px;margin: -1px;overflow: hidden;padding: 0;position: absolute;width: 1px;}#sk-container-id-1 div.sk-estimator {font-family: monospace;background-color: #f0f8ff;border: 1px dotted black;border-radius: 0.25em;box-sizing: border-box;margin-bottom: 0.5em;}#sk-container-id-1 div.sk-estimator:hover {background-color: #d4ebff;}#sk-container-id-1 div.sk-parallel-item::after {content: \"\";width: 100%;border-bottom: 1px solid gray;flex-grow: 1;}#sk-container-id-1 div.sk-label:hover label.sk-toggleable__label {background-color: #d4ebff;}#sk-container-id-1 div.sk-serial::before {content: \"\";position: absolute;border-left: 1px solid gray;box-sizing: border-box;top: 0;bottom: 0;left: 50%;z-index: 0;}#sk-container-id-1 div.sk-serial {display: flex;flex-direction: column;align-items: center;background-color: white;padding-right: 0.2em;padding-left: 0.2em;position: relative;}#sk-container-id-1 div.sk-item {position: relative;z-index: 1;}#sk-container-id-1 div.sk-parallel {display: flex;align-items: stretch;justify-content: center;background-color: white;position: relative;}#sk-container-id-1 div.sk-item::before, #sk-container-id-1 div.sk-parallel-item::before {content: \"\";position: absolute;border-left: 1px solid gray;box-sizing: border-box;top: 0;bottom: 0;left: 50%;z-index: -1;}#sk-container-id-1 div.sk-parallel-item {display: flex;flex-direction: column;z-index: 1;position: relative;background-color: white;}#sk-container-id-1 div.sk-parallel-item:first-child::after {align-self: flex-end;width: 50%;}#sk-container-id-1 div.sk-parallel-item:last-child::after {align-self: flex-start;width: 50%;}#sk-container-id-1 div.sk-parallel-item:only-child::after {width: 0;}#sk-container-id-1 div.sk-dashed-wrapped {border: 1px dashed gray;margin: 0 0.4em 0.5em 0.4em;box-sizing: border-box;padding-bottom: 0.4em;background-color: white;}#sk-container-id-1 div.sk-label label {font-family: monospace;font-weight: bold;display: inline-block;line-height: 1.2em;}#sk-container-id-1 div.sk-label-container {text-align: center;}#sk-container-id-1 div.sk-container {/* jupyter's `normalize.less` sets `[hidden] { display: none; }` but bootstrap.min.css set `[hidden] { display: none !important; }` so we also need the `!important` here to be able to override the default hidden behavior on the sphinx rendered scikit-learn.org. See: https://github.com/scikit-learn/scikit-learn/issues/21755 */display: inline-block !important;position: relative;}#sk-container-id-1 div.sk-text-repr-fallback {display: none;}</style><div id=\"sk-container-id-1\" class=\"sk-top-container\"><div class=\"sk-text-repr-fallback\"><pre>RandomizedSearchCV(cv=5,\n",
       "                   estimator=Pipeline(steps=[(&#x27;vect&#x27;, None),\n",
       "                                             (&#x27;resampling&#x27;, None),\n",
       "                                             (&#x27;modeling&#x27;,\n",
       "                                              DecisionTreeClassifier(max_depth=5,\n",
       "                                                                     random_state=0))]),\n",
       "                   n_iter=100, n_jobs=-1,\n",
       "                   param_distributions={&#x27;modeling__criterion&#x27;: [&#x27;gini&#x27;,\n",
       "                                                                &#x27;entropy&#x27;,\n",
       "                                                                &#x27;log_loss&#x27;],\n",
       "                                        &#x27;modeling__max_depth&#x27;: range(2, 31),\n",
       "                                        &#x27;modeling__min_samples_leaf&#x27;: range(2, 50),\n",
       "                                        &#x27;modeling__min_samples_split&#x27;: range(2, 50),\n",
       "                                        &#x27;resampling&#x27;: [SMOTE(random_state=0,\n",
       "                                                             sampling_strategy=&#x27;minority&#x27;),\n",
       "                                                       NearMiss(sampling_strategy=&#x27;majority&#x27;)],\n",
       "                                        &#x27;vect&#x27;: [CountVectorizer(),\n",
       "                                                 CountVectorizer(ngram_range=(2,\n",
       "                                                                              2)),\n",
       "                                                 TfidfVectorizer(norm=None),\n",
       "                                                 TfidfVectorizer(ngram_range=(2,\n",
       "                                                                              2),\n",
       "                                                                 norm=None)]},\n",
       "                   random_state=0, scoring=&#x27;recall&#x27;)</pre><b>In a Jupyter environment, please rerun this cell to show the HTML representation or trust the notebook. <br />On GitHub, the HTML representation is unable to render, please try loading this page with nbviewer.org.</b></div><div class=\"sk-container\" hidden><div class=\"sk-item sk-dashed-wrapped\"><div class=\"sk-label-container\"><div class=\"sk-label sk-toggleable\"><input class=\"sk-toggleable__control sk-hidden--visually\" id=\"sk-estimator-id-1\" type=\"checkbox\" ><label for=\"sk-estimator-id-1\" class=\"sk-toggleable__label sk-toggleable__label-arrow\">RandomizedSearchCV</label><div class=\"sk-toggleable__content\"><pre>RandomizedSearchCV(cv=5,\n",
       "                   estimator=Pipeline(steps=[(&#x27;vect&#x27;, None),\n",
       "                                             (&#x27;resampling&#x27;, None),\n",
       "                                             (&#x27;modeling&#x27;,\n",
       "                                              DecisionTreeClassifier(max_depth=5,\n",
       "                                                                     random_state=0))]),\n",
       "                   n_iter=100, n_jobs=-1,\n",
       "                   param_distributions={&#x27;modeling__criterion&#x27;: [&#x27;gini&#x27;,\n",
       "                                                                &#x27;entropy&#x27;,\n",
       "                                                                &#x27;log_loss&#x27;],\n",
       "                                        &#x27;modeling__max_depth&#x27;: range(2, 31),\n",
       "                                        &#x27;modeling__min_samples_leaf&#x27;: range(2, 50),\n",
       "                                        &#x27;modeling__min_samples_split&#x27;: range(2, 50),\n",
       "                                        &#x27;resampling&#x27;: [SMOTE(random_state=0,\n",
       "                                                             sampling_strategy=&#x27;minority&#x27;),\n",
       "                                                       NearMiss(sampling_strategy=&#x27;majority&#x27;)],\n",
       "                                        &#x27;vect&#x27;: [CountVectorizer(),\n",
       "                                                 CountVectorizer(ngram_range=(2,\n",
       "                                                                              2)),\n",
       "                                                 TfidfVectorizer(norm=None),\n",
       "                                                 TfidfVectorizer(ngram_range=(2,\n",
       "                                                                              2),\n",
       "                                                                 norm=None)]},\n",
       "                   random_state=0, scoring=&#x27;recall&#x27;)</pre></div></div></div><div class=\"sk-parallel\"><div class=\"sk-parallel-item\"><div class=\"sk-item\"><div class=\"sk-label-container\"><div class=\"sk-label sk-toggleable\"><input class=\"sk-toggleable__control sk-hidden--visually\" id=\"sk-estimator-id-2\" type=\"checkbox\" ><label for=\"sk-estimator-id-2\" class=\"sk-toggleable__label sk-toggleable__label-arrow\">estimator: Pipeline</label><div class=\"sk-toggleable__content\"><pre>Pipeline(steps=[(&#x27;vect&#x27;, None), (&#x27;resampling&#x27;, None),\n",
       "                (&#x27;modeling&#x27;,\n",
       "                 DecisionTreeClassifier(max_depth=5, random_state=0))])</pre></div></div></div><div class=\"sk-serial\"><div class=\"sk-item\"><div class=\"sk-serial\"><div class=\"sk-item\"><div class=\"sk-estimator sk-toggleable\"><input class=\"sk-toggleable__control sk-hidden--visually\" id=\"sk-estimator-id-3\" type=\"checkbox\" ><label for=\"sk-estimator-id-3\" class=\"sk-toggleable__label sk-toggleable__label-arrow\">None</label><div class=\"sk-toggleable__content\"><pre>None</pre></div></div></div><div class=\"sk-item\"><div class=\"sk-estimator sk-toggleable\"><input class=\"sk-toggleable__control sk-hidden--visually\" id=\"sk-estimator-id-4\" type=\"checkbox\" ><label for=\"sk-estimator-id-4\" class=\"sk-toggleable__label sk-toggleable__label-arrow\">None</label><div class=\"sk-toggleable__content\"><pre>None</pre></div></div></div><div class=\"sk-item\"><div class=\"sk-estimator sk-toggleable\"><input class=\"sk-toggleable__control sk-hidden--visually\" id=\"sk-estimator-id-5\" type=\"checkbox\" ><label for=\"sk-estimator-id-5\" class=\"sk-toggleable__label sk-toggleable__label-arrow\">DecisionTreeClassifier</label><div class=\"sk-toggleable__content\"><pre>DecisionTreeClassifier(max_depth=5, random_state=0)</pre></div></div></div></div></div></div></div></div></div></div></div></div>"
      ],
      "text/plain": [
       "RandomizedSearchCV(cv=5,\n",
       "                   estimator=Pipeline(steps=[('vect', None),\n",
       "                                             ('resampling', None),\n",
       "                                             ('modeling',\n",
       "                                              DecisionTreeClassifier(max_depth=5,\n",
       "                                                                     random_state=0))]),\n",
       "                   n_iter=100, n_jobs=-1,\n",
       "                   param_distributions={'modeling__criterion': ['gini',\n",
       "                                                                'entropy',\n",
       "                                                                'log_loss'],\n",
       "                                        'modeling__max_depth': range(2, 31),\n",
       "                                        'modeling__min_samples_leaf': range(2, 50),\n",
       "                                        'modeling__min_samples_split': range(2, 50),\n",
       "                                        'resampling': [SMOTE(random_state=0,\n",
       "                                                             sampling_strategy='minority'),\n",
       "                                                       NearMiss(sampling_strategy='majority')],\n",
       "                                        'vect': [CountVectorizer(),\n",
       "                                                 CountVectorizer(ngram_range=(2,\n",
       "                                                                              2)),\n",
       "                                                 TfidfVectorizer(norm=None),\n",
       "                                                 TfidfVectorizer(ngram_range=(2,\n",
       "                                                                              2),\n",
       "                                                                 norm=None)]},\n",
       "                   random_state=0, scoring='recall')"
      ]
     },
     "execution_count": 65,
     "metadata": {},
     "output_type": "execute_result"
    }
   ],
   "source": [
    "randomsearch.fit(X_train, y_train)"
   ]
  },
  {
   "cell_type": "code",
   "execution_count": 76,
   "metadata": {},
   "outputs": [
    {
     "data": {
      "text/html": [
       "<div>\n",
       "<style scoped>\n",
       "    .dataframe tbody tr th:only-of-type {\n",
       "        vertical-align: middle;\n",
       "    }\n",
       "\n",
       "    .dataframe tbody tr th {\n",
       "        vertical-align: top;\n",
       "    }\n",
       "\n",
       "    .dataframe thead th {\n",
       "        text-align: right;\n",
       "    }\n",
       "</style>\n",
       "<table border=\"1\" class=\"dataframe\">\n",
       "  <thead>\n",
       "    <tr style=\"text-align: right;\">\n",
       "      <th></th>\n",
       "      <th>mean_fit_time</th>\n",
       "      <th>std_fit_time</th>\n",
       "      <th>mean_score_time</th>\n",
       "      <th>std_score_time</th>\n",
       "      <th>param_vect</th>\n",
       "      <th>param_resampling</th>\n",
       "      <th>param_modeling__min_samples_split</th>\n",
       "      <th>param_modeling__min_samples_leaf</th>\n",
       "      <th>param_modeling__max_depth</th>\n",
       "      <th>param_modeling__criterion</th>\n",
       "      <th>params</th>\n",
       "      <th>split0_test_score</th>\n",
       "      <th>split1_test_score</th>\n",
       "      <th>split2_test_score</th>\n",
       "      <th>split3_test_score</th>\n",
       "      <th>split4_test_score</th>\n",
       "      <th>mean_test_score</th>\n",
       "      <th>std_test_score</th>\n",
       "      <th>rank_test_score</th>\n",
       "    </tr>\n",
       "  </thead>\n",
       "  <tbody>\n",
       "    <tr>\n",
       "      <th>80</th>\n",
       "      <td>0.750471</td>\n",
       "      <td>0.102376</td>\n",
       "      <td>0.013160</td>\n",
       "      <td>0.003598</td>\n",
       "      <td>CountVectorizer()</td>\n",
       "      <td>NearMiss(sampling_strategy='majority')</td>\n",
       "      <td>28</td>\n",
       "      <td>7</td>\n",
       "      <td>2</td>\n",
       "      <td>entropy</td>\n",
       "      <td>{'vect': CountVectorizer(), 'resampling': Near...</td>\n",
       "      <td>0.959862</td>\n",
       "      <td>0.971626</td>\n",
       "      <td>0.971626</td>\n",
       "      <td>0.967497</td>\n",
       "      <td>0.966805</td>\n",
       "      <td>0.967483</td>\n",
       "      <td>0.004310</td>\n",
       "      <td>1</td>\n",
       "    </tr>\n",
       "    <tr>\n",
       "      <th>15</th>\n",
       "      <td>0.573973</td>\n",
       "      <td>0.008334</td>\n",
       "      <td>0.015691</td>\n",
       "      <td>0.005228</td>\n",
       "      <td>TfidfVectorizer(norm=None)</td>\n",
       "      <td>SMOTE(random_state=0, sampling_strategy='minor...</td>\n",
       "      <td>9</td>\n",
       "      <td>40</td>\n",
       "      <td>5</td>\n",
       "      <td>entropy</td>\n",
       "      <td>{'vect': TfidfVectorizer(norm=None), 'resampli...</td>\n",
       "      <td>0.951557</td>\n",
       "      <td>0.970242</td>\n",
       "      <td>0.965398</td>\n",
       "      <td>0.963347</td>\n",
       "      <td>0.960581</td>\n",
       "      <td>0.962225</td>\n",
       "      <td>0.006199</td>\n",
       "      <td>2</td>\n",
       "    </tr>\n",
       "    <tr>\n",
       "      <th>59</th>\n",
       "      <td>0.939578</td>\n",
       "      <td>0.095348</td>\n",
       "      <td>0.011759</td>\n",
       "      <td>0.001518</td>\n",
       "      <td>CountVectorizer()</td>\n",
       "      <td>NearMiss(sampling_strategy='majority')</td>\n",
       "      <td>2</td>\n",
       "      <td>19</td>\n",
       "      <td>3</td>\n",
       "      <td>log_loss</td>\n",
       "      <td>{'vect': CountVectorizer(), 'resampling': Near...</td>\n",
       "      <td>0.952249</td>\n",
       "      <td>0.966090</td>\n",
       "      <td>0.962630</td>\n",
       "      <td>0.963347</td>\n",
       "      <td>0.955740</td>\n",
       "      <td>0.960011</td>\n",
       "      <td>0.005166</td>\n",
       "      <td>3</td>\n",
       "    </tr>\n",
       "    <tr>\n",
       "      <th>62</th>\n",
       "      <td>0.536093</td>\n",
       "      <td>0.024337</td>\n",
       "      <td>0.014927</td>\n",
       "      <td>0.003321</td>\n",
       "      <td>TfidfVectorizer(norm=None)</td>\n",
       "      <td>SMOTE(random_state=0, sampling_strategy='minor...</td>\n",
       "      <td>25</td>\n",
       "      <td>48</td>\n",
       "      <td>3</td>\n",
       "      <td>entropy</td>\n",
       "      <td>{'vect': TfidfVectorizer(norm=None), 'resampli...</td>\n",
       "      <td>0.947405</td>\n",
       "      <td>0.960554</td>\n",
       "      <td>0.957093</td>\n",
       "      <td>0.963347</td>\n",
       "      <td>0.955740</td>\n",
       "      <td>0.956828</td>\n",
       "      <td>0.005412</td>\n",
       "      <td>4</td>\n",
       "    </tr>\n",
       "    <tr>\n",
       "      <th>87</th>\n",
       "      <td>0.344816</td>\n",
       "      <td>0.023308</td>\n",
       "      <td>0.012829</td>\n",
       "      <td>0.002858</td>\n",
       "      <td>CountVectorizer()</td>\n",
       "      <td>SMOTE(random_state=0, sampling_strategy='minor...</td>\n",
       "      <td>47</td>\n",
       "      <td>17</td>\n",
       "      <td>28</td>\n",
       "      <td>log_loss</td>\n",
       "      <td>{'vect': CountVectorizer(), 'resampling': SMOT...</td>\n",
       "      <td>0.677509</td>\n",
       "      <td>0.686505</td>\n",
       "      <td>0.703114</td>\n",
       "      <td>0.705394</td>\n",
       "      <td>0.654910</td>\n",
       "      <td>0.685486</td>\n",
       "      <td>0.018475</td>\n",
       "      <td>5</td>\n",
       "    </tr>\n",
       "    <tr>\n",
       "      <th>...</th>\n",
       "      <td>...</td>\n",
       "      <td>...</td>\n",
       "      <td>...</td>\n",
       "      <td>...</td>\n",
       "      <td>...</td>\n",
       "      <td>...</td>\n",
       "      <td>...</td>\n",
       "      <td>...</td>\n",
       "      <td>...</td>\n",
       "      <td>...</td>\n",
       "      <td>...</td>\n",
       "      <td>...</td>\n",
       "      <td>...</td>\n",
       "      <td>...</td>\n",
       "      <td>...</td>\n",
       "      <td>...</td>\n",
       "      <td>...</td>\n",
       "      <td>...</td>\n",
       "      <td>...</td>\n",
       "    </tr>\n",
       "    <tr>\n",
       "      <th>35</th>\n",
       "      <td>0.356033</td>\n",
       "      <td>0.032776</td>\n",
       "      <td>0.025463</td>\n",
       "      <td>0.007204</td>\n",
       "      <td>CountVectorizer(ngram_range=(2, 2))</td>\n",
       "      <td>SMOTE(random_state=0, sampling_strategy='minor...</td>\n",
       "      <td>24</td>\n",
       "      <td>10</td>\n",
       "      <td>3</td>\n",
       "      <td>entropy</td>\n",
       "      <td>{'vect': CountVectorizer(ngram_range=(2, 2)), ...</td>\n",
       "      <td>0.142561</td>\n",
       "      <td>0.132872</td>\n",
       "      <td>0.153633</td>\n",
       "      <td>0.150069</td>\n",
       "      <td>0.134163</td>\n",
       "      <td>0.142660</td>\n",
       "      <td>0.008286</td>\n",
       "      <td>96</td>\n",
       "    </tr>\n",
       "    <tr>\n",
       "      <th>65</th>\n",
       "      <td>0.260275</td>\n",
       "      <td>0.022035</td>\n",
       "      <td>0.020876</td>\n",
       "      <td>0.004961</td>\n",
       "      <td>CountVectorizer(ngram_range=(2, 2))</td>\n",
       "      <td>SMOTE(random_state=0, sampling_strategy='minor...</td>\n",
       "      <td>2</td>\n",
       "      <td>8</td>\n",
       "      <td>3</td>\n",
       "      <td>gini</td>\n",
       "      <td>{'vect': CountVectorizer(ngram_range=(2, 2)), ...</td>\n",
       "      <td>0.142561</td>\n",
       "      <td>0.132872</td>\n",
       "      <td>0.153633</td>\n",
       "      <td>0.150069</td>\n",
       "      <td>0.134163</td>\n",
       "      <td>0.142660</td>\n",
       "      <td>0.008286</td>\n",
       "      <td>96</td>\n",
       "    </tr>\n",
       "    <tr>\n",
       "      <th>16</th>\n",
       "      <td>0.276917</td>\n",
       "      <td>0.015044</td>\n",
       "      <td>0.020389</td>\n",
       "      <td>0.003677</td>\n",
       "      <td>CountVectorizer(ngram_range=(2, 2))</td>\n",
       "      <td>SMOTE(random_state=0, sampling_strategy='minor...</td>\n",
       "      <td>42</td>\n",
       "      <td>19</td>\n",
       "      <td>2</td>\n",
       "      <td>entropy</td>\n",
       "      <td>{'vect': CountVectorizer(ngram_range=(2, 2)), ...</td>\n",
       "      <td>0.103114</td>\n",
       "      <td>0.091349</td>\n",
       "      <td>0.099654</td>\n",
       "      <td>0.101660</td>\n",
       "      <td>0.097510</td>\n",
       "      <td>0.098658</td>\n",
       "      <td>0.004113</td>\n",
       "      <td>98</td>\n",
       "    </tr>\n",
       "    <tr>\n",
       "      <th>54</th>\n",
       "      <td>1.077123</td>\n",
       "      <td>0.022111</td>\n",
       "      <td>0.025241</td>\n",
       "      <td>0.003827</td>\n",
       "      <td>CountVectorizer(ngram_range=(2, 2))</td>\n",
       "      <td>NearMiss(sampling_strategy='majority')</td>\n",
       "      <td>2</td>\n",
       "      <td>39</td>\n",
       "      <td>4</td>\n",
       "      <td>log_loss</td>\n",
       "      <td>{'vect': CountVectorizer(ngram_range=(2, 2)), ...</td>\n",
       "      <td>0.108651</td>\n",
       "      <td>0.062284</td>\n",
       "      <td>0.072664</td>\n",
       "      <td>0.074689</td>\n",
       "      <td>0.079530</td>\n",
       "      <td>0.079563</td>\n",
       "      <td>0.015595</td>\n",
       "      <td>99</td>\n",
       "    </tr>\n",
       "    <tr>\n",
       "      <th>89</th>\n",
       "      <td>1.444719</td>\n",
       "      <td>0.056866</td>\n",
       "      <td>0.026205</td>\n",
       "      <td>0.006711</td>\n",
       "      <td>TfidfVectorizer(ngram_range=(2, 2), norm=None)</td>\n",
       "      <td>NearMiss(sampling_strategy='majority')</td>\n",
       "      <td>19</td>\n",
       "      <td>26</td>\n",
       "      <td>2</td>\n",
       "      <td>gini</td>\n",
       "      <td>{'vect': TfidfVectorizer(ngram_range=(2, 2), n...</td>\n",
       "      <td>0.060208</td>\n",
       "      <td>0.050519</td>\n",
       "      <td>0.058131</td>\n",
       "      <td>0.056708</td>\n",
       "      <td>0.060858</td>\n",
       "      <td>0.057285</td>\n",
       "      <td>0.003691</td>\n",
       "      <td>100</td>\n",
       "    </tr>\n",
       "  </tbody>\n",
       "</table>\n",
       "<p>100 rows × 19 columns</p>\n",
       "</div>"
      ],
      "text/plain": [
       "    mean_fit_time  std_fit_time  mean_score_time  std_score_time  \\\n",
       "80       0.750471      0.102376         0.013160        0.003598   \n",
       "15       0.573973      0.008334         0.015691        0.005228   \n",
       "59       0.939578      0.095348         0.011759        0.001518   \n",
       "62       0.536093      0.024337         0.014927        0.003321   \n",
       "87       0.344816      0.023308         0.012829        0.002858   \n",
       "..            ...           ...              ...             ...   \n",
       "35       0.356033      0.032776         0.025463        0.007204   \n",
       "65       0.260275      0.022035         0.020876        0.004961   \n",
       "16       0.276917      0.015044         0.020389        0.003677   \n",
       "54       1.077123      0.022111         0.025241        0.003827   \n",
       "89       1.444719      0.056866         0.026205        0.006711   \n",
       "\n",
       "                                        param_vect  \\\n",
       "80                               CountVectorizer()   \n",
       "15                      TfidfVectorizer(norm=None)   \n",
       "59                               CountVectorizer()   \n",
       "62                      TfidfVectorizer(norm=None)   \n",
       "87                               CountVectorizer()   \n",
       "..                                             ...   \n",
       "35             CountVectorizer(ngram_range=(2, 2))   \n",
       "65             CountVectorizer(ngram_range=(2, 2))   \n",
       "16             CountVectorizer(ngram_range=(2, 2))   \n",
       "54             CountVectorizer(ngram_range=(2, 2))   \n",
       "89  TfidfVectorizer(ngram_range=(2, 2), norm=None)   \n",
       "\n",
       "                                     param_resampling  \\\n",
       "80             NearMiss(sampling_strategy='majority')   \n",
       "15  SMOTE(random_state=0, sampling_strategy='minor...   \n",
       "59             NearMiss(sampling_strategy='majority')   \n",
       "62  SMOTE(random_state=0, sampling_strategy='minor...   \n",
       "87  SMOTE(random_state=0, sampling_strategy='minor...   \n",
       "..                                                ...   \n",
       "35  SMOTE(random_state=0, sampling_strategy='minor...   \n",
       "65  SMOTE(random_state=0, sampling_strategy='minor...   \n",
       "16  SMOTE(random_state=0, sampling_strategy='minor...   \n",
       "54             NearMiss(sampling_strategy='majority')   \n",
       "89             NearMiss(sampling_strategy='majority')   \n",
       "\n",
       "   param_modeling__min_samples_split param_modeling__min_samples_leaf  \\\n",
       "80                                28                                7   \n",
       "15                                 9                               40   \n",
       "59                                 2                               19   \n",
       "62                                25                               48   \n",
       "87                                47                               17   \n",
       "..                               ...                              ...   \n",
       "35                                24                               10   \n",
       "65                                 2                                8   \n",
       "16                                42                               19   \n",
       "54                                 2                               39   \n",
       "89                                19                               26   \n",
       "\n",
       "   param_modeling__max_depth param_modeling__criterion  \\\n",
       "80                         2                   entropy   \n",
       "15                         5                   entropy   \n",
       "59                         3                  log_loss   \n",
       "62                         3                   entropy   \n",
       "87                        28                  log_loss   \n",
       "..                       ...                       ...   \n",
       "35                         3                   entropy   \n",
       "65                         3                      gini   \n",
       "16                         2                   entropy   \n",
       "54                         4                  log_loss   \n",
       "89                         2                      gini   \n",
       "\n",
       "                                               params  split0_test_score  \\\n",
       "80  {'vect': CountVectorizer(), 'resampling': Near...           0.959862   \n",
       "15  {'vect': TfidfVectorizer(norm=None), 'resampli...           0.951557   \n",
       "59  {'vect': CountVectorizer(), 'resampling': Near...           0.952249   \n",
       "62  {'vect': TfidfVectorizer(norm=None), 'resampli...           0.947405   \n",
       "87  {'vect': CountVectorizer(), 'resampling': SMOT...           0.677509   \n",
       "..                                                ...                ...   \n",
       "35  {'vect': CountVectorizer(ngram_range=(2, 2)), ...           0.142561   \n",
       "65  {'vect': CountVectorizer(ngram_range=(2, 2)), ...           0.142561   \n",
       "16  {'vect': CountVectorizer(ngram_range=(2, 2)), ...           0.103114   \n",
       "54  {'vect': CountVectorizer(ngram_range=(2, 2)), ...           0.108651   \n",
       "89  {'vect': TfidfVectorizer(ngram_range=(2, 2), n...           0.060208   \n",
       "\n",
       "    split1_test_score  split2_test_score  split3_test_score  \\\n",
       "80           0.971626           0.971626           0.967497   \n",
       "15           0.970242           0.965398           0.963347   \n",
       "59           0.966090           0.962630           0.963347   \n",
       "62           0.960554           0.957093           0.963347   \n",
       "87           0.686505           0.703114           0.705394   \n",
       "..                ...                ...                ...   \n",
       "35           0.132872           0.153633           0.150069   \n",
       "65           0.132872           0.153633           0.150069   \n",
       "16           0.091349           0.099654           0.101660   \n",
       "54           0.062284           0.072664           0.074689   \n",
       "89           0.050519           0.058131           0.056708   \n",
       "\n",
       "    split4_test_score  mean_test_score  std_test_score  rank_test_score  \n",
       "80           0.966805         0.967483        0.004310                1  \n",
       "15           0.960581         0.962225        0.006199                2  \n",
       "59           0.955740         0.960011        0.005166                3  \n",
       "62           0.955740         0.956828        0.005412                4  \n",
       "87           0.654910         0.685486        0.018475                5  \n",
       "..                ...              ...             ...              ...  \n",
       "35           0.134163         0.142660        0.008286               96  \n",
       "65           0.134163         0.142660        0.008286               96  \n",
       "16           0.097510         0.098658        0.004113               98  \n",
       "54           0.079530         0.079563        0.015595               99  \n",
       "89           0.060858         0.057285        0.003691              100  \n",
       "\n",
       "[100 rows x 19 columns]"
      ]
     },
     "execution_count": 76,
     "metadata": {},
     "output_type": "execute_result"
    }
   ],
   "source": [
    "# mendapatkan hasil parameter yang terbaik\n",
    "pd.DataFrame(randomsearch.cv_results_).sort_values('rank_test_score')"
   ]
  },
  {
   "cell_type": "code",
   "execution_count": 77,
   "metadata": {},
   "outputs": [
    {
     "data": {
      "text/plain": [
       "{'vect': CountVectorizer(),\n",
       " 'resampling': NearMiss(sampling_strategy='majority'),\n",
       " 'modeling__min_samples_split': 28,\n",
       " 'modeling__min_samples_leaf': 7,\n",
       " 'modeling__max_depth': 2,\n",
       " 'modeling__criterion': 'entropy'}"
      ]
     },
     "execution_count": 77,
     "metadata": {},
     "output_type": "execute_result"
    }
   ],
   "source": [
    "# nilai terbaik dari parameter\n",
    "randomsearch.best_params_ "
   ]
  },
  {
   "cell_type": "code",
   "execution_count": 78,
   "metadata": {},
   "outputs": [
    {
     "data": {
      "text/html": [
       "<style>#sk-container-id-3 {color: black;}#sk-container-id-3 pre{padding: 0;}#sk-container-id-3 div.sk-toggleable {background-color: white;}#sk-container-id-3 label.sk-toggleable__label {cursor: pointer;display: block;width: 100%;margin-bottom: 0;padding: 0.3em;box-sizing: border-box;text-align: center;}#sk-container-id-3 label.sk-toggleable__label-arrow:before {content: \"▸\";float: left;margin-right: 0.25em;color: #696969;}#sk-container-id-3 label.sk-toggleable__label-arrow:hover:before {color: black;}#sk-container-id-3 div.sk-estimator:hover label.sk-toggleable__label-arrow:before {color: black;}#sk-container-id-3 div.sk-toggleable__content {max-height: 0;max-width: 0;overflow: hidden;text-align: left;background-color: #f0f8ff;}#sk-container-id-3 div.sk-toggleable__content pre {margin: 0.2em;color: black;border-radius: 0.25em;background-color: #f0f8ff;}#sk-container-id-3 input.sk-toggleable__control:checked~div.sk-toggleable__content {max-height: 200px;max-width: 100%;overflow: auto;}#sk-container-id-3 input.sk-toggleable__control:checked~label.sk-toggleable__label-arrow:before {content: \"▾\";}#sk-container-id-3 div.sk-estimator input.sk-toggleable__control:checked~label.sk-toggleable__label {background-color: #d4ebff;}#sk-container-id-3 div.sk-label input.sk-toggleable__control:checked~label.sk-toggleable__label {background-color: #d4ebff;}#sk-container-id-3 input.sk-hidden--visually {border: 0;clip: rect(1px 1px 1px 1px);clip: rect(1px, 1px, 1px, 1px);height: 1px;margin: -1px;overflow: hidden;padding: 0;position: absolute;width: 1px;}#sk-container-id-3 div.sk-estimator {font-family: monospace;background-color: #f0f8ff;border: 1px dotted black;border-radius: 0.25em;box-sizing: border-box;margin-bottom: 0.5em;}#sk-container-id-3 div.sk-estimator:hover {background-color: #d4ebff;}#sk-container-id-3 div.sk-parallel-item::after {content: \"\";width: 100%;border-bottom: 1px solid gray;flex-grow: 1;}#sk-container-id-3 div.sk-label:hover label.sk-toggleable__label {background-color: #d4ebff;}#sk-container-id-3 div.sk-serial::before {content: \"\";position: absolute;border-left: 1px solid gray;box-sizing: border-box;top: 0;bottom: 0;left: 50%;z-index: 0;}#sk-container-id-3 div.sk-serial {display: flex;flex-direction: column;align-items: center;background-color: white;padding-right: 0.2em;padding-left: 0.2em;position: relative;}#sk-container-id-3 div.sk-item {position: relative;z-index: 1;}#sk-container-id-3 div.sk-parallel {display: flex;align-items: stretch;justify-content: center;background-color: white;position: relative;}#sk-container-id-3 div.sk-item::before, #sk-container-id-3 div.sk-parallel-item::before {content: \"\";position: absolute;border-left: 1px solid gray;box-sizing: border-box;top: 0;bottom: 0;left: 50%;z-index: -1;}#sk-container-id-3 div.sk-parallel-item {display: flex;flex-direction: column;z-index: 1;position: relative;background-color: white;}#sk-container-id-3 div.sk-parallel-item:first-child::after {align-self: flex-end;width: 50%;}#sk-container-id-3 div.sk-parallel-item:last-child::after {align-self: flex-start;width: 50%;}#sk-container-id-3 div.sk-parallel-item:only-child::after {width: 0;}#sk-container-id-3 div.sk-dashed-wrapped {border: 1px dashed gray;margin: 0 0.4em 0.5em 0.4em;box-sizing: border-box;padding-bottom: 0.4em;background-color: white;}#sk-container-id-3 div.sk-label label {font-family: monospace;font-weight: bold;display: inline-block;line-height: 1.2em;}#sk-container-id-3 div.sk-label-container {text-align: center;}#sk-container-id-3 div.sk-container {/* jupyter's `normalize.less` sets `[hidden] { display: none; }` but bootstrap.min.css set `[hidden] { display: none !important; }` so we also need the `!important` here to be able to override the default hidden behavior on the sphinx rendered scikit-learn.org. See: https://github.com/scikit-learn/scikit-learn/issues/21755 */display: inline-block !important;position: relative;}#sk-container-id-3 div.sk-text-repr-fallback {display: none;}</style><div id=\"sk-container-id-3\" class=\"sk-top-container\"><div class=\"sk-text-repr-fallback\"><pre>Pipeline(steps=[(&#x27;vect&#x27;, CountVectorizer()),\n",
       "                (&#x27;resampling&#x27;, NearMiss(sampling_strategy=&#x27;majority&#x27;)),\n",
       "                (&#x27;modeling&#x27;,\n",
       "                 DecisionTreeClassifier(criterion=&#x27;entropy&#x27;, max_depth=2,\n",
       "                                        min_samples_leaf=7,\n",
       "                                        min_samples_split=28,\n",
       "                                        random_state=0))])</pre><b>In a Jupyter environment, please rerun this cell to show the HTML representation or trust the notebook. <br />On GitHub, the HTML representation is unable to render, please try loading this page with nbviewer.org.</b></div><div class=\"sk-container\" hidden><div class=\"sk-item sk-dashed-wrapped\"><div class=\"sk-label-container\"><div class=\"sk-label sk-toggleable\"><input class=\"sk-toggleable__control sk-hidden--visually\" id=\"sk-estimator-id-10\" type=\"checkbox\" ><label for=\"sk-estimator-id-10\" class=\"sk-toggleable__label sk-toggleable__label-arrow\">Pipeline</label><div class=\"sk-toggleable__content\"><pre>Pipeline(steps=[(&#x27;vect&#x27;, CountVectorizer()),\n",
       "                (&#x27;resampling&#x27;, NearMiss(sampling_strategy=&#x27;majority&#x27;)),\n",
       "                (&#x27;modeling&#x27;,\n",
       "                 DecisionTreeClassifier(criterion=&#x27;entropy&#x27;, max_depth=2,\n",
       "                                        min_samples_leaf=7,\n",
       "                                        min_samples_split=28,\n",
       "                                        random_state=0))])</pre></div></div></div><div class=\"sk-serial\"><div class=\"sk-item\"><div class=\"sk-estimator sk-toggleable\"><input class=\"sk-toggleable__control sk-hidden--visually\" id=\"sk-estimator-id-11\" type=\"checkbox\" ><label for=\"sk-estimator-id-11\" class=\"sk-toggleable__label sk-toggleable__label-arrow\">CountVectorizer</label><div class=\"sk-toggleable__content\"><pre>CountVectorizer()</pre></div></div></div><div class=\"sk-item\"><div class=\"sk-estimator sk-toggleable\"><input class=\"sk-toggleable__control sk-hidden--visually\" id=\"sk-estimator-id-12\" type=\"checkbox\" ><label for=\"sk-estimator-id-12\" class=\"sk-toggleable__label sk-toggleable__label-arrow\">NearMiss</label><div class=\"sk-toggleable__content\"><pre>NearMiss(sampling_strategy=&#x27;majority&#x27;)</pre></div></div></div><div class=\"sk-item\"><div class=\"sk-estimator sk-toggleable\"><input class=\"sk-toggleable__control sk-hidden--visually\" id=\"sk-estimator-id-13\" type=\"checkbox\" ><label for=\"sk-estimator-id-13\" class=\"sk-toggleable__label sk-toggleable__label-arrow\">DecisionTreeClassifier</label><div class=\"sk-toggleable__content\"><pre>DecisionTreeClassifier(criterion=&#x27;entropy&#x27;, max_depth=2, min_samples_leaf=7,\n",
       "                       min_samples_split=28, random_state=0)</pre></div></div></div></div></div></div></div>"
      ],
      "text/plain": [
       "Pipeline(steps=[('vect', CountVectorizer()),\n",
       "                ('resampling', NearMiss(sampling_strategy='majority')),\n",
       "                ('modeling',\n",
       "                 DecisionTreeClassifier(criterion='entropy', max_depth=2,\n",
       "                                        min_samples_leaf=7,\n",
       "                                        min_samples_split=28,\n",
       "                                        random_state=0))])"
      ]
     },
     "execution_count": 78,
     "metadata": {},
     "output_type": "execute_result"
    }
   ],
   "source": [
    "# best estimator\n",
    "randomsearch.best_estimator_"
   ]
  },
  {
   "cell_type": "markdown",
   "metadata": {},
   "source": [
    "## Predict to test"
   ]
  },
  {
   "cell_type": "code",
   "execution_count": 79,
   "metadata": {},
   "outputs": [],
   "source": [
    "# metric\n",
    "from sklearn.metrics import accuracy_score, precision_score, recall_score, f1_score "
   ]
  },
  {
   "cell_type": "markdown",
   "metadata": {},
   "source": [
    "Before tuning"
   ]
  },
  {
   "cell_type": "code",
   "execution_count": 80,
   "metadata": {},
   "outputs": [
    {
     "data": {
      "text/plain": [
       "0.9623685666851135"
      ]
     },
     "execution_count": 80,
     "metadata": {},
     "output_type": "execute_result"
    }
   ],
   "source": [
    "model = Pipeline([\n",
    "    (\"vect\", vect_tf),\n",
    "    (\"modeling\", tree)\n",
    "])\n",
    "model.fit(X_train, y_train)\n",
    "y_pred_before = model.predict(X_test)\n",
    "recall_score(y_test, y_pred_before)"
   ]
  },
  {
   "cell_type": "markdown",
   "metadata": {},
   "source": [
    "After tuning"
   ]
  },
  {
   "cell_type": "code",
   "execution_count": 81,
   "metadata": {},
   "outputs": [
    {
     "data": {
      "text/plain": [
       "0.9690094078583287"
      ]
     },
     "execution_count": 81,
     "metadata": {},
     "output_type": "execute_result"
    }
   ],
   "source": [
    "model_tuning = randomsearch.best_estimator_\n",
    "model_tuning.fit(X_train, y_train)\n",
    "y_pred_after = model_tuning.predict(X_test)\n",
    "recall_score(y_test, y_pred_after)"
   ]
  },
  {
   "cell_type": "code",
   "execution_count": 82,
   "metadata": {},
   "outputs": [],
   "source": [
    "from sklearn.metrics import classification_report, confusion_matrix, ConfusionMatrixDisplay"
   ]
  },
  {
   "cell_type": "code",
   "execution_count": 89,
   "metadata": {},
   "outputs": [
    {
     "data": {
      "text/plain": [
       "array([[ 213,  808],\n",
       "       [  68, 1739]])"
      ]
     },
     "execution_count": 89,
     "metadata": {},
     "output_type": "execute_result"
    }
   ],
   "source": [
    "cf_before=confusion_matrix(y_test, y_pred_before)\n",
    "cf_before"
   ]
  },
  {
   "cell_type": "code",
   "execution_count": 90,
   "metadata": {},
   "outputs": [
    {
     "data": {
      "text/plain": [
       "array([[ 132,  889],\n",
       "       [  56, 1751]])"
      ]
     },
     "execution_count": 90,
     "metadata": {},
     "output_type": "execute_result"
    }
   ],
   "source": [
    "cf_after = confusion_matrix(y_test, y_pred_after)\n",
    "cf_after"
   ]
  },
  {
   "cell_type": "code",
   "execution_count": 86,
   "metadata": {},
   "outputs": [
    {
     "name": "stdout",
     "output_type": "stream",
     "text": [
      "              precision    recall  f1-score   support\n",
      "\n",
      "           0       0.76      0.21      0.33      1021\n",
      "           1       0.68      0.96      0.80      1807\n",
      "\n",
      "    accuracy                           0.69      2828\n",
      "   macro avg       0.72      0.59      0.56      2828\n",
      "weighted avg       0.71      0.69      0.63      2828\n",
      "\n"
     ]
    }
   ],
   "source": [
    "print(classification_report(y_test, y_pred_before))"
   ]
  },
  {
   "cell_type": "code",
   "execution_count": 85,
   "metadata": {},
   "outputs": [
    {
     "name": "stdout",
     "output_type": "stream",
     "text": [
      "              precision    recall  f1-score   support\n",
      "\n",
      "           0       0.70      0.13      0.22      1021\n",
      "           1       0.66      0.97      0.79      1807\n",
      "\n",
      "    accuracy                           0.67      2828\n",
      "   macro avg       0.68      0.55      0.50      2828\n",
      "weighted avg       0.68      0.67      0.58      2828\n",
      "\n"
     ]
    }
   ],
   "source": [
    "print(classification_report(y_test, y_pred_after))"
   ]
  },
  {
   "cell_type": "code",
   "execution_count": 91,
   "metadata": {},
   "outputs": [
    {
     "data": {
      "image/png": "[encoded data removed]",
      "text/plain": [
       "<Figure size 640x480 with 2 Axes>"
      ]
     },
     "metadata": {},
     "output_type": "display_data"
    }
   ],
   "source": [
    "# Display confusion matrix without numeric values\n",
    "disp = ConfusionMatrixDisplay(confusion_matrix=cf_before, display_labels=['Negative', 'Positive'])\n",
    "disp.plot(cmap='Blues', values_format='')\n",
    "\n",
    "# Add abbreviations above the cells with higher positioning\n",
    "for i in range(2):\n",
    "    for j in range(2):\n",
    "        cell_value = disp.confusion_matrix[i, j]\n",
    "        if i == 0 and j == 0:\n",
    "            plt.text(j, i - 0.2, 'TN', ha='center', va='center', color='skyblue', fontweight='bold')\n",
    "        elif i == 0 and j == 1:\n",
    "            plt.text(j, i - 0.2, 'FP', ha='center', va='center', color='skyblue', fontweight='bold')\n",
    "        elif i == 1 and j == 0:\n",
    "            plt.text(j, i - 0.2, 'FN', ha='center', va='center', color='skyblue', fontweight='bold')\n",
    "        elif i == 1 and j == 1:\n",
    "            plt.text(j, i - 0.2, 'TP', ha='center', va='center', color='skyblue', fontweight='bold')\n",
    "\n",
    "# Show the plot\n",
    "plt.show()"
   ]
  },
  {
   "cell_type": "code",
   "execution_count": 92,
   "metadata": {},
   "outputs": [
    {
     "data": {
      "image/png": "[encoded data removed]",
      "text/plain": [
       "<Figure size 640x480 with 2 Axes>"
      ]
     },
     "metadata": {},
     "output_type": "display_data"
    }
   ],
   "source": [
    "# Display confusion matrix without numeric values\n",
    "disp = ConfusionMatrixDisplay(confusion_matrix=cf_after, display_labels=['Negative', 'Positive'])\n",
    "disp.plot(cmap='Blues', values_format='')\n",
    "\n",
    "# Add abbreviations above the cells with higher positioning\n",
    "for i in range(2):\n",
    "    for j in range(2):\n",
    "        cell_value = disp.confusion_matrix[i, j]\n",
    "        if i == 0 and j == 0:\n",
    "            plt.text(j, i - 0.2, 'TN', ha='center', va='center', color='skyblue', fontweight='bold')\n",
    "        elif i == 0 and j == 1:\n",
    "            plt.text(j, i - 0.2, 'FP', ha='center', va='center', color='skyblue', fontweight='bold')\n",
    "        elif i == 1 and j == 0:\n",
    "            plt.text(j, i - 0.2, 'FN', ha='center', va='center', color='skyblue', fontweight='bold')\n",
    "        elif i == 1 and j == 1:\n",
    "            plt.text(j, i - 0.2, 'TP', ha='center', va='center', color='skyblue', fontweight='bold')\n",
    "\n",
    "# Show the plot\n",
    "plt.show()"
   ]
  },
  {
   "cell_type": "markdown",
   "metadata": {},
   "source": [
    "FP: Diprediksi tweet negatif -> alarm nyala -> actualnya tweet positive -> cost : waktu untuk cek tweet\n",
    "\n",
    "FN: Diprediksi tweet positif -> alarm tidak menyala -> actualnya tweet negatif -> cost : tweet negatif tidak di handle (merusak reputasi)"
   ]
  },
  {
   "cell_type": "markdown",
   "metadata": {},
   "source": [
    "# Conclusion"
   ]
  },
  {
   "cell_type": "markdown",
   "metadata": {},
   "source": [
    "Berdasarkan kedua confusion matrix (before dan after), kita berhasil mengurangi resiko terjadinya salah memprediksi negatif yang tidak dihandle. Dari 68 menjadi 56, sehingga setidaknya kita terlalu merusak reputasi"
   ]
  },
  {
   "cell_type": "code",
   "execution_count": null,
   "metadata": {},
   "outputs": [],
   "source": []
  }
 ],
 "metadata": {
  "kernelspec": {
   "display_name": "Python 3",
   "language": "python",
   "name": "python3"
  },
  "language_info": {
   "codemirror_mode": {
    "name": "ipython",
    "version": 3
   },
   "file_extension": ".py",
   "mimetype": "text/x-python",
   "name": "python",
   "nbconvert_exporter": "python",
   "pygments_lexer": "ipython3",
   "version": "3.11.6"
  }
 },
 "nbformat": 4,
 "nbformat_minor": 2
}
